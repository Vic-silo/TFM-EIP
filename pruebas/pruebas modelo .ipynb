{
 "cells": [
  {
   "cell_type": "code",
   "execution_count": null,
   "id": "4bc1c7f3",
   "metadata": {},
   "outputs": [],
   "source": [
    "import pandas as pd\n",
    "df = pd.read_csv('imputado_completo.csv')\n",
    "pd.set_option('display.max_columns', None)\n",
    "df"
   ]
  },
  {
   "cell_type": "code",
   "execution_count": null,
   "id": "ba142897",
   "metadata": {},
   "outputs": [],
   "source": [
    "#pruebas modelo \n",
    "with open('ruta_del_modelo/modelo.pkl', 'rb') as file:\n",
    "    modelo = pickle.load(file)\n",
    "    predicciones = modelo.predict(datos_de_entrada)"
   ]
  }
 ],
 "metadata": {
  "kernelspec": {
   "display_name": "Python 3 (ipykernel)",
   "language": "python",
   "name": "python3"
  },
  "language_info": {
   "codemirror_mode": {
    "name": "ipython",
    "version": 3
   },
   "file_extension": ".py",
   "mimetype": "text/x-python",
   "name": "python",
   "nbconvert_exporter": "python",
   "pygments_lexer": "ipython3",
   "version": "3.8.5"
  }
 },
 "nbformat": 4,
 "nbformat_minor": 5
}
