{
 "cells": [
  {
   "cell_type": "code",
   "execution_count": 1,
   "id": "bbe2ad6a",
   "metadata": {
    "id": "6ckOwDo3qa3w",
    "outputId": "3be32dfb-0245-4f5e-b2cc-9ebf0fc4ca2f",
    "papermill": {
     "duration": 0.024738,
     "end_time": "2023-01-28T14:53:27.488605",
     "exception": false,
     "start_time": "2023-01-28T14:53:27.463867",
     "status": "completed"
    },
    "tags": []
   },
   "outputs": [],
   "source": [
    "#df =pd.read_csv(\"International_Report_Passengers.csv\",index_col=\"data_dte\",parse_dates=[\"data_dte\"])\n",
    "#df1 = pd.DataFrame(df, columns = ['fg_wac', 'Total'])\n",
    "#df1\n",
    "#dataset.dropna(inplace=True)"
   ]
  },
  {
   "cell_type": "code",
   "execution_count": 2,
   "id": "c5a56d69",
   "metadata": {
    "papermill": {
     "duration": 0.018247,
     "end_time": "2023-01-28T14:53:27.516707",
     "exception": false,
     "start_time": "2023-01-28T14:53:27.498460",
     "status": "completed"
    },
    "tags": []
   },
   "outputs": [],
   "source": [
    "#del(df['usg_apt_id'])\n",
    "#del(df['Scheduled'])\n",
    "#del(df['Charter'])\n",
    "#del(df['usg_apt'])\n",
    "#del(df['fg_apt'])\n",
    "#del(df['year'])\n",
    "#del(df['month'])\n",
    "#Nos quedamos con las variables más relevantes\n",
    "#df = pd.DataFrame(df, columns = ['fg_wac', 'Total'])"
   ]
  },
  {
   "cell_type": "markdown",
   "id": "c020c737",
   "metadata": {
    "papermill": {
     "duration": 0.009081,
     "end_time": "2023-01-28T14:53:27.535233",
     "exception": false,
     "start_time": "2023-01-28T14:53:27.526152",
     "status": "completed"
    },
    "tags": []
   },
   "source": [
    "# Preprocesamiento"
   ]
  },
  {
   "cell_type": "code",
   "execution_count": 3,
   "id": "359b476f-c18c-4259-b0b5-dae8f13e7a19",
   "metadata": {},
   "outputs": [],
   "source": [
    "# Instalación libreria tensorflow-gpu\n",
    "\n",
    "# from IPython.display import clear_output\n",
    "# import warnings\n",
    "# warnings.filterwarnings('ignore')\n",
    "\n",
    "# Instalación de la libreria y limpiar salida\n",
    "# !pip install tensorflow-gpu\n",
    "# clear_output()\n",
    "# import tensorflow as tf\n",
    "\n",
    "# Comprobar que se ha instalado correctamente\n",
    "# print('[+] GPU disponible: ', tf.test.is_gpu_available())\n",
    "# Mostrar las GPU\n",
    "# gpus = tf.config.experimental.list_physical_devices('GPU')\n",
    "# for gpu in gpus:\n",
    "#    tf.config.experimental.set_memory_growth(gpu, True)\n",
    "#    print(\"Name:\", gpu.name, \"  Type:\", gpu.device_type)"
   ]
  },
  {
   "cell_type": "markdown",
   "id": "e350650c",
   "metadata": {
    "papermill": {
     "duration": 0.009046,
     "end_time": "2023-01-28T14:53:27.553638",
     "exception": false,
     "start_time": "2023-01-28T14:53:27.544592",
     "status": "completed"
    },
    "tags": []
   },
   "source": [
    "## Importacion de librerias"
   ]
  },
  {
   "cell_type": "code",
   "execution_count": 4,
   "id": "5379376f",
   "metadata": {
    "papermill": {
     "duration": 8.08803,
     "end_time": "2023-01-28T14:53:35.652084",
     "exception": false,
     "start_time": "2023-01-28T14:53:27.564054",
     "status": "completed"
    },
    "tags": []
   },
   "outputs": [],
   "source": [
    "import numpy as np\n",
    "import matplotlib.pyplot as plt\n",
    "import pandas as pd\n",
    "from sklearn.preprocessing import MinMaxScaler\n",
    "\n",
    "# Keras\n",
    "from tensorflow.keras.models import Sequential\n",
    "from tensorflow.keras.layers import Dense, LSTM"
   ]
  },
  {
   "cell_type": "markdown",
   "id": "c502e6d1",
   "metadata": {
    "papermill": {
     "duration": 0.009483,
     "end_time": "2023-01-28T14:53:35.671501",
     "exception": false,
     "start_time": "2023-01-28T14:53:35.662018",
     "status": "completed"
    },
    "tags": []
   },
   "source": [
    "## Carga del dataset y seleccion de columnas"
   ]
  },
  {
   "cell_type": "code",
   "execution_count": 5,
   "id": "9ed59a62",
   "metadata": {
    "papermill": {
     "duration": 2.578001,
     "end_time": "2023-01-28T14:53:38.259269",
     "exception": false,
     "start_time": "2023-01-28T14:53:35.681268",
     "status": "completed"
    },
    "tags": []
   },
   "outputs": [
    {
     "data": {
      "text/html": [
       "<div>\n",
       "<style scoped>\n",
       "    .dataframe tbody tr th:only-of-type {\n",
       "        vertical-align: middle;\n",
       "    }\n",
       "\n",
       "    .dataframe tbody tr th {\n",
       "        vertical-align: top;\n",
       "    }\n",
       "\n",
       "    .dataframe thead th {\n",
       "        text-align: right;\n",
       "    }\n",
       "</style>\n",
       "<table border=\"1\" class=\"dataframe\">\n",
       "  <thead>\n",
       "    <tr style=\"text-align: right;\">\n",
       "      <th></th>\n",
       "      <th>data_dte</th>\n",
       "      <th>Year</th>\n",
       "      <th>Month</th>\n",
       "      <th>usg_apt_id</th>\n",
       "      <th>usg_apt</th>\n",
       "      <th>usg_wac</th>\n",
       "      <th>fg_apt_id</th>\n",
       "      <th>fg_apt</th>\n",
       "      <th>fg_wac</th>\n",
       "      <th>airlineid</th>\n",
       "      <th>carrier</th>\n",
       "      <th>carriergroup</th>\n",
       "      <th>type</th>\n",
       "      <th>Scheduled</th>\n",
       "      <th>Charter</th>\n",
       "      <th>Total</th>\n",
       "    </tr>\n",
       "  </thead>\n",
       "  <tbody>\n",
       "    <tr>\n",
       "      <th>0</th>\n",
       "      <td>2014-05-01</td>\n",
       "      <td>2014</td>\n",
       "      <td>5</td>\n",
       "      <td>14492</td>\n",
       "      <td>RDU</td>\n",
       "      <td>36</td>\n",
       "      <td>11032</td>\n",
       "      <td>CUN</td>\n",
       "      <td>148</td>\n",
       "      <td>19534</td>\n",
       "      <td>AM</td>\n",
       "      <td>0</td>\n",
       "      <td>Passengers</td>\n",
       "      <td>0</td>\n",
       "      <td>315</td>\n",
       "      <td>315</td>\n",
       "    </tr>\n",
       "    <tr>\n",
       "      <th>1</th>\n",
       "      <td>2007-06-01</td>\n",
       "      <td>2007</td>\n",
       "      <td>6</td>\n",
       "      <td>13204</td>\n",
       "      <td>MCO</td>\n",
       "      <td>33</td>\n",
       "      <td>16085</td>\n",
       "      <td>YHZ</td>\n",
       "      <td>951</td>\n",
       "      <td>20364</td>\n",
       "      <td>C6</td>\n",
       "      <td>0</td>\n",
       "      <td>Passengers</td>\n",
       "      <td>0</td>\n",
       "      <td>683</td>\n",
       "      <td>683</td>\n",
       "    </tr>\n",
       "    <tr>\n",
       "      <th>2</th>\n",
       "      <td>2005-12-01</td>\n",
       "      <td>2005</td>\n",
       "      <td>12</td>\n",
       "      <td>11433</td>\n",
       "      <td>DTW</td>\n",
       "      <td>43</td>\n",
       "      <td>10411</td>\n",
       "      <td>AUA</td>\n",
       "      <td>277</td>\n",
       "      <td>20344</td>\n",
       "      <td>RD</td>\n",
       "      <td>1</td>\n",
       "      <td>Passengers</td>\n",
       "      <td>0</td>\n",
       "      <td>1010</td>\n",
       "      <td>1010</td>\n",
       "    </tr>\n",
       "    <tr>\n",
       "      <th>3</th>\n",
       "      <td>2003-04-01</td>\n",
       "      <td>2003</td>\n",
       "      <td>4</td>\n",
       "      <td>13487</td>\n",
       "      <td>MSP</td>\n",
       "      <td>63</td>\n",
       "      <td>16304</td>\n",
       "      <td>ZIH</td>\n",
       "      <td>148</td>\n",
       "      <td>20204</td>\n",
       "      <td>MG</td>\n",
       "      <td>1</td>\n",
       "      <td>Passengers</td>\n",
       "      <td>0</td>\n",
       "      <td>508</td>\n",
       "      <td>508</td>\n",
       "    </tr>\n",
       "    <tr>\n",
       "      <th>4</th>\n",
       "      <td>2005-12-01</td>\n",
       "      <td>2005</td>\n",
       "      <td>12</td>\n",
       "      <td>12016</td>\n",
       "      <td>GUM</td>\n",
       "      <td>5</td>\n",
       "      <td>11138</td>\n",
       "      <td>CRK</td>\n",
       "      <td>766</td>\n",
       "      <td>20312</td>\n",
       "      <td>TZ</td>\n",
       "      <td>1</td>\n",
       "      <td>Passengers</td>\n",
       "      <td>0</td>\n",
       "      <td>76</td>\n",
       "      <td>76</td>\n",
       "    </tr>\n",
       "    <tr>\n",
       "      <th>...</th>\n",
       "      <td>...</td>\n",
       "      <td>...</td>\n",
       "      <td>...</td>\n",
       "      <td>...</td>\n",
       "      <td>...</td>\n",
       "      <td>...</td>\n",
       "      <td>...</td>\n",
       "      <td>...</td>\n",
       "      <td>...</td>\n",
       "      <td>...</td>\n",
       "      <td>...</td>\n",
       "      <td>...</td>\n",
       "      <td>...</td>\n",
       "      <td>...</td>\n",
       "      <td>...</td>\n",
       "      <td>...</td>\n",
       "    </tr>\n",
       "    <tr>\n",
       "      <th>680980</th>\n",
       "      <td>2015-10-01</td>\n",
       "      <td>2015</td>\n",
       "      <td>10</td>\n",
       "      <td>12478</td>\n",
       "      <td>JFK</td>\n",
       "      <td>22</td>\n",
       "      <td>12972</td>\n",
       "      <td>LHR</td>\n",
       "      <td>493</td>\n",
       "      <td>19540</td>\n",
       "      <td>BA</td>\n",
       "      <td>0</td>\n",
       "      <td>Passengers</td>\n",
       "      <td>130217</td>\n",
       "      <td>0</td>\n",
       "      <td>130217</td>\n",
       "    </tr>\n",
       "    <tr>\n",
       "      <th>680981</th>\n",
       "      <td>2014-09-01</td>\n",
       "      <td>2014</td>\n",
       "      <td>9</td>\n",
       "      <td>12478</td>\n",
       "      <td>JFK</td>\n",
       "      <td>22</td>\n",
       "      <td>12972</td>\n",
       "      <td>LHR</td>\n",
       "      <td>493</td>\n",
       "      <td>19540</td>\n",
       "      <td>BA</td>\n",
       "      <td>0</td>\n",
       "      <td>Passengers</td>\n",
       "      <td>132052</td>\n",
       "      <td>0</td>\n",
       "      <td>132052</td>\n",
       "    </tr>\n",
       "    <tr>\n",
       "      <th>680982</th>\n",
       "      <td>2014-10-01</td>\n",
       "      <td>2014</td>\n",
       "      <td>10</td>\n",
       "      <td>12478</td>\n",
       "      <td>JFK</td>\n",
       "      <td>22</td>\n",
       "      <td>12972</td>\n",
       "      <td>LHR</td>\n",
       "      <td>493</td>\n",
       "      <td>19540</td>\n",
       "      <td>BA</td>\n",
       "      <td>0</td>\n",
       "      <td>Passengers</td>\n",
       "      <td>132822</td>\n",
       "      <td>0</td>\n",
       "      <td>132822</td>\n",
       "    </tr>\n",
       "    <tr>\n",
       "      <th>680983</th>\n",
       "      <td>2014-08-01</td>\n",
       "      <td>2014</td>\n",
       "      <td>8</td>\n",
       "      <td>12478</td>\n",
       "      <td>JFK</td>\n",
       "      <td>22</td>\n",
       "      <td>12972</td>\n",
       "      <td>LHR</td>\n",
       "      <td>493</td>\n",
       "      <td>19540</td>\n",
       "      <td>BA</td>\n",
       "      <td>0</td>\n",
       "      <td>Passengers</td>\n",
       "      <td>134263</td>\n",
       "      <td>0</td>\n",
       "      <td>134263</td>\n",
       "    </tr>\n",
       "    <tr>\n",
       "      <th>680984</th>\n",
       "      <td>1990-03-01</td>\n",
       "      <td>1990</td>\n",
       "      <td>3</td>\n",
       "      <td>12478</td>\n",
       "      <td>JFK</td>\n",
       "      <td>22</td>\n",
       "      <td>12972</td>\n",
       "      <td>LHR</td>\n",
       "      <td>493</td>\n",
       "      <td>19540</td>\n",
       "      <td>BA</td>\n",
       "      <td>0</td>\n",
       "      <td>Passengers</td>\n",
       "      <td>149898</td>\n",
       "      <td>297</td>\n",
       "      <td>150195</td>\n",
       "    </tr>\n",
       "  </tbody>\n",
       "</table>\n",
       "<p>680985 rows × 16 columns</p>\n",
       "</div>"
      ],
      "text/plain": [
       "         data_dte  Year  Month  usg_apt_id usg_apt  usg_wac  fg_apt_id fg_apt  \\\n",
       "0      2014-05-01  2014      5       14492     RDU       36      11032    CUN   \n",
       "1      2007-06-01  2007      6       13204     MCO       33      16085    YHZ   \n",
       "2      2005-12-01  2005     12       11433     DTW       43      10411    AUA   \n",
       "3      2003-04-01  2003      4       13487     MSP       63      16304    ZIH   \n",
       "4      2005-12-01  2005     12       12016     GUM        5      11138    CRK   \n",
       "...           ...   ...    ...         ...     ...      ...        ...    ...   \n",
       "680980 2015-10-01  2015     10       12478     JFK       22      12972    LHR   \n",
       "680981 2014-09-01  2014      9       12478     JFK       22      12972    LHR   \n",
       "680982 2014-10-01  2014     10       12478     JFK       22      12972    LHR   \n",
       "680983 2014-08-01  2014      8       12478     JFK       22      12972    LHR   \n",
       "680984 1990-03-01  1990      3       12478     JFK       22      12972    LHR   \n",
       "\n",
       "        fg_wac  airlineid carrier  carriergroup        type  Scheduled  \\\n",
       "0          148      19534      AM             0  Passengers          0   \n",
       "1          951      20364      C6             0  Passengers          0   \n",
       "2          277      20344      RD             1  Passengers          0   \n",
       "3          148      20204      MG             1  Passengers          0   \n",
       "4          766      20312      TZ             1  Passengers          0   \n",
       "...        ...        ...     ...           ...         ...        ...   \n",
       "680980     493      19540      BA             0  Passengers     130217   \n",
       "680981     493      19540      BA             0  Passengers     132052   \n",
       "680982     493      19540      BA             0  Passengers     132822   \n",
       "680983     493      19540      BA             0  Passengers     134263   \n",
       "680984     493      19540      BA             0  Passengers     149898   \n",
       "\n",
       "        Charter   Total  \n",
       "0           315     315  \n",
       "1           683     683  \n",
       "2          1010    1010  \n",
       "3           508     508  \n",
       "4            76      76  \n",
       "...         ...     ...  \n",
       "680980        0  130217  \n",
       "680981        0  132052  \n",
       "680982        0  132822  \n",
       "680983        0  134263  \n",
       "680984      297  150195  \n",
       "\n",
       "[680985 rows x 16 columns]"
      ]
     },
     "execution_count": 5,
     "metadata": {},
     "output_type": "execute_result"
    }
   ],
   "source": [
    "#df =pd.read_csv(\"International_Report_Passengers.csv\",parse_dates=[\"data_dte\"])\n",
    "df = pd.read_csv(\"Datasets/International_Report_Passengers.csv\",parse_dates=[\"data_dte\"])\n",
    "\n",
    "\n",
    "#df = pd.DataFrame(df, columns = ['data_dte','fg_wac', 'Total'])\n",
    "#datasetob1=df\n",
    "df"
   ]
  },
  {
   "cell_type": "markdown",
   "id": "65d6fef2",
   "metadata": {
    "papermill": {
     "duration": 0.010092,
     "end_time": "2023-01-28T14:53:38.279217",
     "exception": false,
     "start_time": "2023-01-28T14:53:38.269125",
     "status": "completed"
    },
    "tags": []
   },
   "source": [
    "### Descripcion de variables"
   ]
  },
  {
   "cell_type": "code",
   "execution_count": 6,
   "id": "000c5c9d",
   "metadata": {
    "papermill": {
     "duration": 0.025878,
     "end_time": "2023-01-28T14:53:38.314934",
     "exception": false,
     "start_time": "2023-01-28T14:53:38.289056",
     "status": "completed"
    },
    "tags": []
   },
   "outputs": [
    {
     "data": {
      "text/plain": [
       "data_dte        datetime64[ns]\n",
       "Year                     int64\n",
       "Month                    int64\n",
       "usg_apt_id               int64\n",
       "usg_apt                 object\n",
       "usg_wac                  int64\n",
       "fg_apt_id                int64\n",
       "fg_apt                  object\n",
       "fg_wac                   int64\n",
       "airlineid                int64\n",
       "carrier                 object\n",
       "carriergroup             int64\n",
       "type                    object\n",
       "Scheduled                int64\n",
       "Charter                  int64\n",
       "Total                    int64\n",
       "dtype: object"
      ]
     },
     "execution_count": 6,
     "metadata": {},
     "output_type": "execute_result"
    }
   ],
   "source": [
    "df.dtypes"
   ]
  },
  {
   "cell_type": "markdown",
   "id": "0f76035d",
   "metadata": {
    "papermill": {
     "duration": 0.010096,
     "end_time": "2023-01-28T14:53:38.335004",
     "exception": false,
     "start_time": "2023-01-28T14:53:38.324908",
     "status": "completed"
    },
    "tags": []
   },
   "source": [
    "### Identificación de valores faltantes"
   ]
  },
  {
   "cell_type": "code",
   "execution_count": 7,
   "id": "56f9b9c4",
   "metadata": {
    "papermill": {
     "duration": 0.483915,
     "end_time": "2023-01-28T14:53:38.828917",
     "exception": false,
     "start_time": "2023-01-28T14:53:38.345002",
     "status": "completed"
    },
    "tags": []
   },
   "outputs": [
    {
     "name": "stdout",
     "output_type": "stream",
     "text": [
      "data_dte           0\n",
      "Year               0\n",
      "Month              0\n",
      "usg_apt_id         0\n",
      "usg_apt            0\n",
      "usg_wac            0\n",
      "fg_apt_id          0\n",
      "fg_apt             0\n",
      "fg_wac             0\n",
      "airlineid          0\n",
      "carrier         2797\n",
      "carriergroup       0\n",
      "type               0\n",
      "Scheduled          0\n",
      "Charter            0\n",
      "Total              0\n",
      "dtype: int64\n"
     ]
    }
   ],
   "source": [
    "#Pasamos caracteres raros a nan para poder identificarlos\n",
    "df[df == '?'] = np.nan\n",
    "\n",
    "#Hacemos conteo de los valores nulos\n",
    "print(df.isnull().sum())"
   ]
  },
  {
   "cell_type": "markdown",
   "id": "de0c58e6",
   "metadata": {
    "papermill": {
     "duration": 0.009856,
     "end_time": "2023-01-28T14:53:38.849936",
     "exception": false,
     "start_time": "2023-01-28T14:53:38.840080",
     "status": "completed"
    },
    "tags": []
   },
   "source": [
    "### Tratamiento de valores faltantes"
   ]
  },
  {
   "cell_type": "code",
   "execution_count": 8,
   "id": "a54f3da4",
   "metadata": {
    "papermill": {
     "duration": 0.631896,
     "end_time": "2023-01-28T14:53:39.491848",
     "exception": false,
     "start_time": "2023-01-28T14:53:38.859952",
     "status": "completed"
    },
    "tags": []
   },
   "outputs": [
    {
     "name": "stderr",
     "output_type": "stream",
     "text": [
      "C:\\Users\\vicsi\\AppData\\Local\\Temp\\ipykernel_14460\\2208750976.py:3: SettingWithCopyWarning: \n",
      "A value is trying to be set on a copy of a slice from a DataFrame.\n",
      "Try using .loc[row_indexer,col_indexer] = value instead\n",
      "\n",
      "See the caveats in the documentation: https://pandas.pydata.org/pandas-docs/stable/user_guide/indexing.html#returning-a-view-versus-a-copy\n",
      "  df[df == '?'] = np.nan\n",
      "C:\\Users\\vicsi\\AppData\\Local\\Temp\\ipykernel_14460\\2208750976.py:3: SettingWithCopyWarning: \n",
      "A value is trying to be set on a copy of a slice from a DataFrame\n",
      "\n",
      "See the caveats in the documentation: https://pandas.pydata.org/pandas-docs/stable/user_guide/indexing.html#returning-a-view-versus-a-copy\n",
      "  df[df == '?'] = np.nan\n"
     ]
    },
    {
     "name": "stdout",
     "output_type": "stream",
     "text": [
      "data_dte        0\n",
      "Year            0\n",
      "Month           0\n",
      "usg_apt_id      0\n",
      "usg_apt         0\n",
      "usg_wac         0\n",
      "fg_apt_id       0\n",
      "fg_apt          0\n",
      "fg_wac          0\n",
      "airlineid       0\n",
      "carriergroup    0\n",
      "type            0\n",
      "Scheduled       0\n",
      "Charter         0\n",
      "Total           0\n",
      "dtype: int64\n"
     ]
    }
   ],
   "source": [
    "df=df.dropna(axis = 1)\n",
    "#Pasamos caracteres raros a nan para poder identificarlos\n",
    "df[df == '?'] = np.nan\n",
    "\n",
    "#Hacemos conteo de los valores nulos\n",
    "print(df.isnull().sum())"
   ]
  },
  {
   "cell_type": "markdown",
   "id": "0f8f36ed",
   "metadata": {
    "papermill": {
     "duration": 0.009983,
     "end_time": "2023-01-28T14:53:39.512096",
     "exception": false,
     "start_time": "2023-01-28T14:53:39.502113",
     "status": "completed"
    },
    "tags": []
   },
   "source": [
    "### Analizamos caracteristicas"
   ]
  },
  {
   "cell_type": "code",
   "execution_count": 9,
   "id": "cb19d4a4",
   "metadata": {
    "papermill": {
     "duration": 0.494056,
     "end_time": "2023-01-28T14:53:40.016404",
     "exception": false,
     "start_time": "2023-01-28T14:53:39.522348",
     "status": "completed"
    },
    "tags": []
   },
   "outputs": [
    {
     "name": "stderr",
     "output_type": "stream",
     "text": [
      "C:\\Users\\vicsi\\AppData\\Local\\Temp\\ipykernel_14460\\2835794893.py:2: FutureWarning: Dropping of nuisance columns in DataFrame reductions (with 'numeric_only=None') is deprecated; in a future version this will raise TypeError.  Select only valid columns before calling the reduction.\n",
      "  input_data.skew()\n"
     ]
    },
    {
     "data": {
      "text/plain": [
       "Year            -0.192840\n",
       "Month            0.058169\n",
       "usg_apt_id      25.097443\n",
       "usg_wac          0.489536\n",
       "fg_apt_id        0.005399\n",
       "fg_wac           0.465334\n",
       "airlineid        1.446007\n",
       "carriergroup    -0.250882\n",
       "Scheduled        2.738361\n",
       "Charter         11.635794\n",
       "dtype: float64"
      ]
     },
     "execution_count": 9,
     "metadata": {},
     "output_type": "execute_result"
    }
   ],
   "source": [
    "input_data=df[df.columns[:-1]]\n",
    "input_data.skew() "
   ]
  },
  {
   "cell_type": "code",
   "execution_count": 10,
   "id": "32859aad",
   "metadata": {
    "papermill": {
     "duration": 0.023277,
     "end_time": "2023-01-28T14:53:40.052102",
     "exception": false,
     "start_time": "2023-01-28T14:53:40.028825",
     "status": "completed"
    },
    "tags": []
   },
   "outputs": [],
   "source": [
    "#input_data.plot(kind=\"density\",subplots=True,layout=(4,4),sharex=False,sharey=False)"
   ]
  },
  {
   "cell_type": "markdown",
   "id": "3c54f2fe",
   "metadata": {
    "papermill": {
     "duration": 0.010885,
     "end_time": "2023-01-28T14:53:40.073699",
     "exception": false,
     "start_time": "2023-01-28T14:53:40.062814",
     "status": "completed"
    },
    "tags": []
   },
   "source": [
    "<h1>Jose, pongo aquí lo que he hecho para deputar el dataset.</h1>"
   ]
  },
  {
   "cell_type": "code",
   "execution_count": 11,
   "id": "3667fd0f",
   "metadata": {
    "papermill": {
     "duration": 0.96324,
     "end_time": "2023-01-28T14:53:41.047457",
     "exception": false,
     "start_time": "2023-01-28T14:53:40.084217",
     "status": "completed"
    },
    "tags": []
   },
   "outputs": [],
   "source": [
    "import requests\n",
    "from bs4 import BeautifulSoup as bs\n",
    "\n",
    "# Cargo el diccionario de paises\n",
    "\n",
    "url = 'https://github.com/stefangabos/world_countries/blob/master/data/countries/cs/countries.csv'\n",
    "content = requests.get(url).content\n",
    "soup = bs(content, \"html.parser\")\n",
    "datos = soup.find_all('tr', attrs={'class': 'js-file-line'})\n",
    "\n",
    "paises_alfa = {}\n",
    "\n",
    "for row in datos:\n",
    "    cell = [i.text for i in row.find_all('td')]\n",
    "    if len(cell) > 1:\n",
    "        paises_alfa[cell[3].upper()] = cell[4]\n",
    "#paises_alfa"
   ]
  },
  {
   "cell_type": "code",
   "execution_count": 12,
   "id": "4f889e0c",
   "metadata": {
    "papermill": {
     "duration": 0.774559,
     "end_time": "2023-01-28T14:53:41.832859",
     "exception": false,
     "start_time": "2023-01-28T14:53:41.058300",
     "status": "completed"
    },
    "tags": []
   },
   "outputs": [],
   "source": [
    "# Diccionario de países por código numérico\n",
    "\n",
    "url = 'https://github.com/tasneem/greenhouse-emitters/blob/master/data/lookup-tables/L_WORLD_AREA_CODES.csv'\n",
    "content = requests.get(url).content\n",
    "soup = bs(content, \"html.parser\")\n",
    "datos = soup.find_all('tr', attrs={'class': 'js-file-line'})\n",
    "\n",
    "paises_num = {}\n",
    "\n",
    "for row in datos:\n",
    "    cell = [i.text for i in row.find_all('td')]\n",
    "    if len(cell) > 1:\n",
    "        paises_num[cell[1].upper()] = cell[2]\n",
    "        \n",
    "#paises_num"
   ]
  },
  {
   "cell_type": "code",
   "execution_count": 13,
   "id": "1cca682a",
   "metadata": {
    "papermill": {
     "duration": 3.270233,
     "end_time": "2023-01-28T14:53:45.114171",
     "exception": false,
     "start_time": "2023-01-28T14:53:41.843938",
     "status": "completed"
    },
    "tags": []
   },
   "outputs": [],
   "source": [
    "# Diccionario de aeropuertos. Columna fg_apt_id\n",
    "\n",
    "url = 'https://github.com/tasneem/greenhouse-emitters/blob/master/data/lookup-tables/L_AIRPORT_ID.csv'\n",
    "content = requests.get(url).content\n",
    "soup = bs(content, \"html.parser\")\n",
    "datos = soup.find_all('tr', attrs={'class': 'js-file-line'})\n",
    "\n",
    "aeropuertos = {}\n",
    "\n",
    "for row in datos:\n",
    "    cell = [i.text for i in row.find_all('td')]\n",
    "    if len(cell) > 1:\n",
    "        aeropuertos[int(cell[1])] = cell[2]\n",
    "        \n",
    "#aeropuertos"
   ]
  },
  {
   "cell_type": "code",
   "execution_count": 14,
   "id": "f005082f",
   "metadata": {
    "papermill": {
     "duration": 1.415869,
     "end_time": "2023-01-28T14:53:46.543314",
     "exception": false,
     "start_time": "2023-01-28T14:53:45.127445",
     "status": "completed"
    },
    "tags": []
   },
   "outputs": [],
   "source": [
    "# Diccionario de compañías aéreas. Código alfanumérico 3 dig. Columna carrier\n",
    "\n",
    "url = 'https://github.com/tasneem/greenhouse-emitters/blob/master/data/lookup-tables/L_UNIQUE_CARRIERS.csv'\n",
    "content = requests.get(url).content\n",
    "soup = bs(content, \"html.parser\")\n",
    "datos = soup.find_all('tr', attrs={'class': 'js-file-line'})\n",
    "\n",
    "dic_carrier = {}\n",
    "\n",
    "for row in datos:\n",
    "    cell = [i.text for i in row.find_all('td')]\n",
    "    if len(cell) > 1:\n",
    "        dic_carrier[cell[1].upper()] = cell[2]\n",
    "        \n",
    "#dic_carrier"
   ]
  },
  {
   "cell_type": "code",
   "execution_count": 15,
   "id": "e73ff4ce",
   "metadata": {
    "papermill": {
     "duration": 0.037522,
     "end_time": "2023-01-28T14:53:46.592477",
     "exception": false,
     "start_time": "2023-01-28T14:53:46.554955",
     "status": "completed"
    },
    "tags": []
   },
   "outputs": [],
   "source": [
    "# Diccionario de compañía aérea. Código numérico de 5 dig. Columna airlineid\n",
    "\n",
    "import csv\n",
    "\n",
    "with open(\"Datasets/L_AIRLINE_ID.csv\") as file:\n",
    "    reader = csv.reader(file)\n",
    "    next(reader) # Descartamos cabecera\n",
    "    dic_airlineid = dict(reader)\n",
    "#dic_airlineid"
   ]
  },
  {
   "cell_type": "code",
   "execution_count": 16,
   "id": "580faef7",
   "metadata": {
    "papermill": {
     "duration": 1.200483,
     "end_time": "2023-01-28T14:53:47.803998",
     "exception": false,
     "start_time": "2023-01-28T14:53:46.603515",
     "status": "completed"
    },
    "tags": []
   },
   "outputs": [
    {
     "data": {
      "text/html": [
       "<div>\n",
       "<style scoped>\n",
       "    .dataframe tbody tr th:only-of-type {\n",
       "        vertical-align: middle;\n",
       "    }\n",
       "\n",
       "    .dataframe tbody tr th {\n",
       "        vertical-align: top;\n",
       "    }\n",
       "\n",
       "    .dataframe thead th {\n",
       "        text-align: right;\n",
       "    }\n",
       "</style>\n",
       "<table border=\"1\" class=\"dataframe\">\n",
       "  <thead>\n",
       "    <tr style=\"text-align: right;\">\n",
       "      <th></th>\n",
       "      <th>data_dte</th>\n",
       "      <th>Year</th>\n",
       "      <th>Month</th>\n",
       "      <th>fg_apt_id</th>\n",
       "      <th>fg_wac</th>\n",
       "      <th>airlineid</th>\n",
       "      <th>carrier</th>\n",
       "      <th>Total</th>\n",
       "    </tr>\n",
       "  </thead>\n",
       "  <tbody>\n",
       "    <tr>\n",
       "      <th>0</th>\n",
       "      <td>05/01/2014</td>\n",
       "      <td>2014</td>\n",
       "      <td>5</td>\n",
       "      <td>11032</td>\n",
       "      <td>148</td>\n",
       "      <td>19534</td>\n",
       "      <td>AM</td>\n",
       "      <td>315</td>\n",
       "    </tr>\n",
       "    <tr>\n",
       "      <th>1</th>\n",
       "      <td>06/01/2007</td>\n",
       "      <td>2007</td>\n",
       "      <td>6</td>\n",
       "      <td>16085</td>\n",
       "      <td>951</td>\n",
       "      <td>20364</td>\n",
       "      <td>C6</td>\n",
       "      <td>683</td>\n",
       "    </tr>\n",
       "    <tr>\n",
       "      <th>2</th>\n",
       "      <td>12/01/2005</td>\n",
       "      <td>2005</td>\n",
       "      <td>12</td>\n",
       "      <td>10411</td>\n",
       "      <td>277</td>\n",
       "      <td>20344</td>\n",
       "      <td>RD</td>\n",
       "      <td>1010</td>\n",
       "    </tr>\n",
       "    <tr>\n",
       "      <th>3</th>\n",
       "      <td>04/01/2003</td>\n",
       "      <td>2003</td>\n",
       "      <td>4</td>\n",
       "      <td>16304</td>\n",
       "      <td>148</td>\n",
       "      <td>20204</td>\n",
       "      <td>MG</td>\n",
       "      <td>508</td>\n",
       "    </tr>\n",
       "    <tr>\n",
       "      <th>4</th>\n",
       "      <td>12/01/2005</td>\n",
       "      <td>2005</td>\n",
       "      <td>12</td>\n",
       "      <td>11138</td>\n",
       "      <td>766</td>\n",
       "      <td>20312</td>\n",
       "      <td>TZ</td>\n",
       "      <td>76</td>\n",
       "    </tr>\n",
       "  </tbody>\n",
       "</table>\n",
       "</div>"
      ],
      "text/plain": [
       "     data_dte  Year  Month  fg_apt_id  fg_wac  airlineid carrier  Total\n",
       "0  05/01/2014  2014      5      11032     148      19534      AM    315\n",
       "1  06/01/2007  2007      6      16085     951      20364      C6    683\n",
       "2  12/01/2005  2005     12      10411     277      20344      RD   1010\n",
       "3  04/01/2003  2003      4      16304     148      20204      MG    508\n",
       "4  12/01/2005  2005     12      11138     766      20312      TZ     76"
      ]
     },
     "execution_count": 16,
     "metadata": {},
     "output_type": "execute_result"
    }
   ],
   "source": [
    "datos = pd.read_csv('Datasets/International_Report_Passengers.csv')\n",
    "# Eliminamos las columnas usg_apt y fg_apt puesto que contienen el mismo dato que las columnas usg_apt_id y fg_apt_id respectivamente\n",
    "# Eliminamos las columnas que nos indican de donde parten los viajeros. Lo que nos importa es el destino.\n",
    "# Eliminamos la columna que nos indica el número de pasageros en vuelos charter. Nos interesa el número total.\n",
    "\n",
    "datos.drop(['type','Scheduled','usg_apt','usg_apt_id','usg_wac','fg_apt','carriergroup','Charter'], axis=1, inplace=True)\n",
    "datos.head()"
   ]
  },
  {
   "cell_type": "code",
   "execution_count": 17,
   "id": "352c6539",
   "metadata": {
    "papermill": {
     "duration": 0.203547,
     "end_time": "2023-01-28T14:53:48.018614",
     "exception": false,
     "start_time": "2023-01-28T14:53:47.815067",
     "status": "completed"
    },
    "tags": []
   },
   "outputs": [
    {
     "data": {
      "text/html": [
       "<div>\n",
       "<style scoped>\n",
       "    .dataframe tbody tr th:only-of-type {\n",
       "        vertical-align: middle;\n",
       "    }\n",
       "\n",
       "    .dataframe tbody tr th {\n",
       "        vertical-align: top;\n",
       "    }\n",
       "\n",
       "    .dataframe thead th {\n",
       "        text-align: right;\n",
       "    }\n",
       "</style>\n",
       "<table border=\"1\" class=\"dataframe\">\n",
       "  <thead>\n",
       "    <tr style=\"text-align: right;\">\n",
       "      <th></th>\n",
       "      <th>Year</th>\n",
       "      <th>Month</th>\n",
       "      <th>fg_apt_id</th>\n",
       "      <th>Total</th>\n",
       "      <th>aeropuerto</th>\n",
       "    </tr>\n",
       "  </thead>\n",
       "  <tbody>\n",
       "    <tr>\n",
       "      <th>0</th>\n",
       "      <td>1990</td>\n",
       "      <td>1</td>\n",
       "      <td>10148</td>\n",
       "      <td>58212</td>\n",
       "      <td>Acapulco, Mexico: General Juan N Alvarez Inter...</td>\n",
       "    </tr>\n",
       "    <tr>\n",
       "      <th>1</th>\n",
       "      <td>1990</td>\n",
       "      <td>1</td>\n",
       "      <td>10174</td>\n",
       "      <td>1309</td>\n",
       "      <td>San Andres Island, Colombia: Gustavo Rojas Pin...</td>\n",
       "    </tr>\n",
       "    <tr>\n",
       "      <th>2</th>\n",
       "      <td>1990</td>\n",
       "      <td>1</td>\n",
       "      <td>10205</td>\n",
       "      <td>2543</td>\n",
       "      <td>Malaga, Spain: Malaga Costa del Sol</td>\n",
       "    </tr>\n",
       "    <tr>\n",
       "      <th>3</th>\n",
       "      <td>1990</td>\n",
       "      <td>1</td>\n",
       "      <td>10244</td>\n",
       "      <td>64280</td>\n",
       "      <td>Auckland, New Zealand: Auckland International</td>\n",
       "    </tr>\n",
       "    <tr>\n",
       "      <th>4</th>\n",
       "      <td>1990</td>\n",
       "      <td>1</td>\n",
       "      <td>10287</td>\n",
       "      <td>967</td>\n",
       "      <td>Amman, Jordan: Queen Alia International</td>\n",
       "    </tr>\n",
       "    <tr>\n",
       "      <th>...</th>\n",
       "      <td>...</td>\n",
       "      <td>...</td>\n",
       "      <td>...</td>\n",
       "      <td>...</td>\n",
       "      <td>...</td>\n",
       "    </tr>\n",
       "    <tr>\n",
       "      <th>94334</th>\n",
       "      <td>2020</td>\n",
       "      <td>3</td>\n",
       "      <td>16825</td>\n",
       "      <td>36</td>\n",
       "      <td>None</td>\n",
       "    </tr>\n",
       "    <tr>\n",
       "      <th>94335</th>\n",
       "      <td>2020</td>\n",
       "      <td>3</td>\n",
       "      <td>16835</td>\n",
       "      <td>1</td>\n",
       "      <td>None</td>\n",
       "    </tr>\n",
       "    <tr>\n",
       "      <th>94336</th>\n",
       "      <td>2020</td>\n",
       "      <td>3</td>\n",
       "      <td>16845</td>\n",
       "      <td>28</td>\n",
       "      <td>None</td>\n",
       "    </tr>\n",
       "    <tr>\n",
       "      <th>94337</th>\n",
       "      <td>2020</td>\n",
       "      <td>3</td>\n",
       "      <td>16858</td>\n",
       "      <td>96583</td>\n",
       "      <td>None</td>\n",
       "    </tr>\n",
       "    <tr>\n",
       "      <th>94338</th>\n",
       "      <td>2020</td>\n",
       "      <td>3</td>\n",
       "      <td>16881</td>\n",
       "      <td>5</td>\n",
       "      <td>None</td>\n",
       "    </tr>\n",
       "  </tbody>\n",
       "</table>\n",
       "<p>94339 rows × 5 columns</p>\n",
       "</div>"
      ],
      "text/plain": [
       "       Year  Month  fg_apt_id  Total  \\\n",
       "0      1990      1      10148  58212   \n",
       "1      1990      1      10174   1309   \n",
       "2      1990      1      10205   2543   \n",
       "3      1990      1      10244  64280   \n",
       "4      1990      1      10287    967   \n",
       "...     ...    ...        ...    ...   \n",
       "94334  2020      3      16825     36   \n",
       "94335  2020      3      16835      1   \n",
       "94336  2020      3      16845     28   \n",
       "94337  2020      3      16858  96583   \n",
       "94338  2020      3      16881      5   \n",
       "\n",
       "                                              aeropuerto  \n",
       "0      Acapulco, Mexico: General Juan N Alvarez Inter...  \n",
       "1      San Andres Island, Colombia: Gustavo Rojas Pin...  \n",
       "2                    Malaga, Spain: Malaga Costa del Sol  \n",
       "3          Auckland, New Zealand: Auckland International  \n",
       "4                Amman, Jordan: Queen Alia International  \n",
       "...                                                  ...  \n",
       "94334                                               None  \n",
       "94335                                               None  \n",
       "94336                                               None  \n",
       "94337                                               None  \n",
       "94338                                               None  \n",
       "\n",
       "[94339 rows x 5 columns]"
      ]
     },
     "execution_count": 17,
     "metadata": {},
     "output_type": "execute_result"
    }
   ],
   "source": [
    "# Agrupo y sumo los datos por año, mes y destino\n",
    "\n",
    "datos_agrupados = datos.groupby(['Year','Month','fg_apt_id']).agg(\n",
    "                                  {'Total': 'sum',\n",
    "                                  }).reset_index()\n",
    "\n",
    "nom_aeropuertos = [aeropuertos.get(x) for x in datos_agrupados['fg_apt_id']]\n",
    "datos_agrupados['aeropuerto'] = nom_aeropuertos\n",
    "\n",
    "datos_agrupados"
   ]
  },
  {
   "cell_type": "markdown",
   "id": "0caf11e3",
   "metadata": {
    "papermill": {
     "duration": 0.011236,
     "end_time": "2023-01-28T14:53:48.041520",
     "exception": false,
     "start_time": "2023-01-28T14:53:48.030284",
     "status": "completed"
    },
    "tags": []
   },
   "source": [
    "<h1>Hasta aquí lo de Pablo</h1>"
   ]
  },
  {
   "cell_type": "markdown",
   "id": "e65518a2",
   "metadata": {
    "papermill": {
     "duration": 0.011194,
     "end_time": "2023-01-28T14:53:48.064115",
     "exception": false,
     "start_time": "2023-01-28T14:53:48.052921",
     "status": "completed"
    },
    "tags": []
   },
   "source": [
    "### Eliminamos columnas que no son relevantes"
   ]
  },
  {
   "cell_type": "code",
   "execution_count": 18,
   "id": "3725d177",
   "metadata": {
    "papermill": {
     "duration": 0.03729,
     "end_time": "2023-01-28T14:53:48.112948",
     "exception": false,
     "start_time": "2023-01-28T14:53:48.075658",
     "status": "completed"
    },
    "tags": []
   },
   "outputs": [],
   "source": [
    "df = pd.DataFrame(df, columns = ['data_dte','fg_wac', 'Total'])\n",
    "#datasetob1=df"
   ]
  },
  {
   "cell_type": "markdown",
   "id": "cc2aca48",
   "metadata": {
    "papermill": {
     "duration": 0.011115,
     "end_time": "2023-01-28T14:53:48.135687",
     "exception": false,
     "start_time": "2023-01-28T14:53:48.124572",
     "status": "completed"
    },
    "tags": []
   },
   "source": [
    "## División por pais"
   ]
  },
  {
   "cell_type": "markdown",
   "id": "70e7a78a",
   "metadata": {
    "papermill": {
     "duration": 0.010987,
     "end_time": "2023-01-28T14:53:48.158256",
     "exception": false,
     "start_time": "2023-01-28T14:53:48.147269",
     "status": "completed"
    },
    "tags": []
   },
   "source": [
    "### Carga de codigos WAC para poder saber qué codigo es cada pais"
   ]
  },
  {
   "cell_type": "code",
   "execution_count": 19,
   "id": "0d05dcfe",
   "metadata": {
    "papermill": {
     "duration": 0.344603,
     "end_time": "2023-01-28T14:53:48.514295",
     "exception": true,
     "start_time": "2023-01-28T14:53:48.169692",
     "status": "failed"
    },
    "tags": []
   },
   "outputs": [
    {
     "data": {
      "text/html": [
       "<div>\n",
       "<style scoped>\n",
       "    .dataframe tbody tr th:only-of-type {\n",
       "        vertical-align: middle;\n",
       "    }\n",
       "\n",
       "    .dataframe tbody tr th {\n",
       "        vertical-align: top;\n",
       "    }\n",
       "\n",
       "    .dataframe thead th {\n",
       "        text-align: right;\n",
       "    }\n",
       "</style>\n",
       "<table border=\"1\" class=\"dataframe\">\n",
       "  <thead>\n",
       "    <tr style=\"text-align: right;\">\n",
       "      <th></th>\n",
       "      <th>Code</th>\n",
       "      <th>Description</th>\n",
       "    </tr>\n",
       "  </thead>\n",
       "  <tbody>\n",
       "    <tr>\n",
       "      <th>0</th>\n",
       "      <td>1</td>\n",
       "      <td>Alaska</td>\n",
       "    </tr>\n",
       "    <tr>\n",
       "      <th>1</th>\n",
       "      <td>2</td>\n",
       "      <td>Hawaii</td>\n",
       "    </tr>\n",
       "    <tr>\n",
       "      <th>2</th>\n",
       "      <td>3</td>\n",
       "      <td>Puerto Rico</td>\n",
       "    </tr>\n",
       "    <tr>\n",
       "      <th>3</th>\n",
       "      <td>4</td>\n",
       "      <td>U.S. Virgin Islands</td>\n",
       "    </tr>\n",
       "    <tr>\n",
       "      <th>4</th>\n",
       "      <td>5</td>\n",
       "      <td>U.S. Pacific Trust Territories and Possessions</td>\n",
       "    </tr>\n",
       "    <tr>\n",
       "      <th>...</th>\n",
       "      <td>...</td>\n",
       "      <td>...</td>\n",
       "    </tr>\n",
       "    <tr>\n",
       "      <th>328</th>\n",
       "      <td>951</td>\n",
       "      <td>Nova Scotia</td>\n",
       "    </tr>\n",
       "    <tr>\n",
       "      <th>329</th>\n",
       "      <td>956</td>\n",
       "      <td>Prince Edward Island</td>\n",
       "    </tr>\n",
       "    <tr>\n",
       "      <th>330</th>\n",
       "      <td>961</td>\n",
       "      <td>Newfoundland and Labrador</td>\n",
       "    </tr>\n",
       "    <tr>\n",
       "      <th>331</th>\n",
       "      <td>975</td>\n",
       "      <td>Greenland</td>\n",
       "    </tr>\n",
       "    <tr>\n",
       "      <th>332</th>\n",
       "      <td>977</td>\n",
       "      <td>Saint Pierre and Miquelon</td>\n",
       "    </tr>\n",
       "  </tbody>\n",
       "</table>\n",
       "<p>333 rows × 2 columns</p>\n",
       "</div>"
      ],
      "text/plain": [
       "     Code                                     Description\n",
       "0       1                                          Alaska\n",
       "1       2                                          Hawaii\n",
       "2       3                                     Puerto Rico\n",
       "3       4                             U.S. Virgin Islands\n",
       "4       5  U.S. Pacific Trust Territories and Possessions\n",
       "..    ...                                             ...\n",
       "328   951                                     Nova Scotia\n",
       "329   956                            Prince Edward Island\n",
       "330   961                       Newfoundland and Labrador\n",
       "331   975                                       Greenland\n",
       "332   977                       Saint Pierre and Miquelon\n",
       "\n",
       "[333 rows x 2 columns]"
      ]
     },
     "execution_count": 19,
     "metadata": {},
     "output_type": "execute_result"
    }
   ],
   "source": [
    "destinos =pd.read_csv(\"Datasets/L_WORLD_AREA_CODES.csv\")\n",
    "destinos"
   ]
  },
  {
   "cell_type": "markdown",
   "id": "6e465328",
   "metadata": {
    "papermill": {
     "duration": null,
     "end_time": null,
     "exception": null,
     "start_time": null,
     "status": "pending"
    },
    "tags": []
   },
   "source": [
    "### Estudio de la distribución para seleccionar destinos más relevantes"
   ]
  },
  {
   "cell_type": "code",
   "execution_count": 20,
   "id": "9a4e9f1e",
   "metadata": {
    "papermill": {
     "duration": null,
     "end_time": null,
     "exception": null,
     "start_time": null,
     "status": "pending"
    },
    "tags": []
   },
   "outputs": [
    {
     "name": "stdout",
     "output_type": "stream",
     "text": [
      "fg_wac\n",
      "204     24552\n",
      "736     30619\n",
      "493     39979\n",
      "936     52746\n",
      "148    117423\n",
      "dtype: int64\n",
      "AxesSubplot(0.125,0.125;0.775x0.755)\n"
     ]
    },
    {
     "data": {
      "image/png": "[encoded data removed]",
      "text/plain": [
       "<Figure size 432x288 with 1 Axes>"
      ]
     },
     "metadata": {
      "needs_background": "light"
     },
     "output_type": "display_data"
    }
   ],
   "source": [
    "obejtivos = df.groupby('fg_wac').size()\n",
    "print(obejtivos.sort_values().tail())\n",
    "print(df[\"fg_wac\"].hist())"
   ]
  },
  {
   "cell_type": "code",
   "execution_count": 21,
   "id": "cb672b1a",
   "metadata": {
    "papermill": {
     "duration": null,
     "end_time": null,
     "exception": null,
     "start_time": null,
     "status": "pending"
    },
    "tags": []
   },
   "outputs": [
    {
     "name": "stdout",
     "output_type": "stream",
     "text": [
      "    Code Description\n",
      "65   204     Bahamas\n",
      "     Code Description\n",
      "257   736       Japan\n",
      "     Code     Description\n",
      "165   493  United Kingdom\n",
      "     Code Description\n",
      "325   936     Ontario\n",
      "    Code Description\n",
      "59   148      Mexico\n"
     ]
    }
   ],
   "source": [
    "obejtivo1 = destinos[destinos['Code'] == 204]\n",
    "obejtivo2 = destinos[destinos['Code'] == 736]\n",
    "obejtivo3 = destinos[destinos['Code'] == 493]\n",
    "obejtivo4 = destinos[destinos['Code'] == 936]\n",
    "obejtivo5 = destinos[destinos['Code'] == 148]\n",
    "print(obejtivo1)\n",
    "print(obejtivo2)\n",
    "print(obejtivo3)\n",
    "print(obejtivo4)\n",
    "print(obejtivo5)"
   ]
  },
  {
   "cell_type": "markdown",
   "id": "094560e7",
   "metadata": {
    "papermill": {
     "duration": null,
     "end_time": null,
     "exception": null,
     "start_time": null,
     "status": "pending"
    },
    "tags": []
   },
   "source": [
    "### Creamos dataset filtrado con  uno de los paises más recurridos "
   ]
  },
  {
   "cell_type": "code",
   "execution_count": 22,
   "id": "c4ebdbc6",
   "metadata": {
    "papermill": {
     "duration": null,
     "end_time": null,
     "exception": null,
     "start_time": null,
     "status": "pending"
    },
    "tags": []
   },
   "outputs": [],
   "source": [
    "#datasetob1 = df[df['fg_wac'] == 204]\n",
    "#datasetob2 = df[df['fg_wac'] == 736]\n",
    "#datasetob3 = df[df['fg_wac'] == 493]\n",
    "#datasetob4 = df[df['fg_wac'] == 936]\n",
    "#datasetob5 = df[df['fg_wac'] == 148]\n",
    "datasetob1 = df[df['fg_wac'] == 148]"
   ]
  },
  {
   "cell_type": "markdown",
   "id": "28761340",
   "metadata": {
    "papermill": {
     "duration": null,
     "end_time": null,
     "exception": null,
     "start_time": null,
     "status": "pending"
    },
    "tags": []
   },
   "source": [
    "### Agrupado y sumado del total de pasageros por año"
   ]
  },
  {
   "cell_type": "code",
   "execution_count": 23,
   "id": "e1426eaf",
   "metadata": {
    "papermill": {
     "duration": null,
     "end_time": null,
     "exception": null,
     "start_time": null,
     "status": "pending"
    },
    "tags": []
   },
   "outputs": [
    {
     "data": {
      "text/html": [
       "<div>\n",
       "<style scoped>\n",
       "    .dataframe tbody tr th:only-of-type {\n",
       "        vertical-align: middle;\n",
       "    }\n",
       "\n",
       "    .dataframe tbody tr th {\n",
       "        vertical-align: top;\n",
       "    }\n",
       "\n",
       "    .dataframe thead th {\n",
       "        text-align: right;\n",
       "    }\n",
       "</style>\n",
       "<table border=\"1\" class=\"dataframe\">\n",
       "  <thead>\n",
       "    <tr style=\"text-align: right;\">\n",
       "      <th></th>\n",
       "      <th>Total</th>\n",
       "    </tr>\n",
       "    <tr>\n",
       "      <th>data_dte</th>\n",
       "      <th></th>\n",
       "    </tr>\n",
       "  </thead>\n",
       "  <tbody>\n",
       "    <tr>\n",
       "      <th>1990-01-01</th>\n",
       "      <td>801818</td>\n",
       "    </tr>\n",
       "    <tr>\n",
       "      <th>1990-02-01</th>\n",
       "      <td>744210</td>\n",
       "    </tr>\n",
       "    <tr>\n",
       "      <th>1990-03-01</th>\n",
       "      <td>888259</td>\n",
       "    </tr>\n",
       "    <tr>\n",
       "      <th>1990-04-01</th>\n",
       "      <td>850439</td>\n",
       "    </tr>\n",
       "    <tr>\n",
       "      <th>1990-05-01</th>\n",
       "      <td>708540</td>\n",
       "    </tr>\n",
       "    <tr>\n",
       "      <th>...</th>\n",
       "      <td>...</td>\n",
       "    </tr>\n",
       "    <tr>\n",
       "      <th>2019-11-01</th>\n",
       "      <td>2402661</td>\n",
       "    </tr>\n",
       "    <tr>\n",
       "      <th>2019-12-01</th>\n",
       "      <td>2890144</td>\n",
       "    </tr>\n",
       "    <tr>\n",
       "      <th>2020-01-01</th>\n",
       "      <td>2776134</td>\n",
       "    </tr>\n",
       "    <tr>\n",
       "      <th>2020-02-01</th>\n",
       "      <td>2353214</td>\n",
       "    </tr>\n",
       "    <tr>\n",
       "      <th>2020-03-01</th>\n",
       "      <td>1593610</td>\n",
       "    </tr>\n",
       "  </tbody>\n",
       "</table>\n",
       "<p>363 rows × 1 columns</p>\n",
       "</div>"
      ],
      "text/plain": [
       "              Total\n",
       "data_dte           \n",
       "1990-01-01   801818\n",
       "1990-02-01   744210\n",
       "1990-03-01   888259\n",
       "1990-04-01   850439\n",
       "1990-05-01   708540\n",
       "...             ...\n",
       "2019-11-01  2402661\n",
       "2019-12-01  2890144\n",
       "2020-01-01  2776134\n",
       "2020-02-01  2353214\n",
       "2020-03-01  1593610\n",
       "\n",
       "[363 rows x 1 columns]"
      ]
     },
     "execution_count": 23,
     "metadata": {},
     "output_type": "execute_result"
    }
   ],
   "source": [
    "#datasetob1 = df[df['fg_wac'] == 204]\n",
    "datasetob1 = pd.DataFrame(datasetob1, columns = ['data_dte', 'Total'])\n",
    "datasetob1=datasetob1.groupby(by=['data_dte']).sum().groupby(level=[0]).cumsum()\n",
    "#datasetob1.set_index('Year')\n",
    "datasetob1\n",
    "#datasetob1 = pd.DataFrame(datasetob1, columns = ['Total'])\n",
    "#dataset.dropna(inplace=True)"
   ]
  },
  {
   "cell_type": "markdown",
   "id": "88252961",
   "metadata": {
    "papermill": {
     "duration": null,
     "end_time": null,
     "exception": null,
     "start_time": null,
     "status": "pending"
    },
    "tags": []
   },
   "source": [
    "# Proceso de Predicción"
   ]
  },
  {
   "cell_type": "code",
   "execution_count": 24,
   "id": "c5445310",
   "metadata": {
    "papermill": {
     "duration": null,
     "end_time": null,
     "exception": null,
     "start_time": null,
     "status": "pending"
    },
    "tags": []
   },
   "outputs": [
    {
     "data": {
      "text/html": [
       "<div>\n",
       "<style scoped>\n",
       "    .dataframe tbody tr th:only-of-type {\n",
       "        vertical-align: middle;\n",
       "    }\n",
       "\n",
       "    .dataframe tbody tr th {\n",
       "        vertical-align: top;\n",
       "    }\n",
       "\n",
       "    .dataframe thead th {\n",
       "        text-align: right;\n",
       "    }\n",
       "</style>\n",
       "<table border=\"1\" class=\"dataframe\">\n",
       "  <thead>\n",
       "    <tr style=\"text-align: right;\">\n",
       "      <th></th>\n",
       "      <th>Total</th>\n",
       "    </tr>\n",
       "    <tr>\n",
       "      <th>data_dte</th>\n",
       "      <th></th>\n",
       "    </tr>\n",
       "  </thead>\n",
       "  <tbody>\n",
       "    <tr>\n",
       "      <th>2010-09-01</th>\n",
       "      <td>983069</td>\n",
       "    </tr>\n",
       "    <tr>\n",
       "      <th>2010-10-01</th>\n",
       "      <td>1168519</td>\n",
       "    </tr>\n",
       "    <tr>\n",
       "      <th>2010-11-01</th>\n",
       "      <td>1304977</td>\n",
       "    </tr>\n",
       "    <tr>\n",
       "      <th>2010-12-01</th>\n",
       "      <td>1586925</td>\n",
       "    </tr>\n",
       "    <tr>\n",
       "      <th>2011-01-01</th>\n",
       "      <td>1595413</td>\n",
       "    </tr>\n",
       "    <tr>\n",
       "      <th>...</th>\n",
       "      <td>...</td>\n",
       "    </tr>\n",
       "    <tr>\n",
       "      <th>2018-08-01</th>\n",
       "      <td>2587950</td>\n",
       "    </tr>\n",
       "    <tr>\n",
       "      <th>2018-09-01</th>\n",
       "      <td>1794042</td>\n",
       "    </tr>\n",
       "    <tr>\n",
       "      <th>2018-10-01</th>\n",
       "      <td>2098763</td>\n",
       "    </tr>\n",
       "    <tr>\n",
       "      <th>2018-11-01</th>\n",
       "      <td>2409375</td>\n",
       "    </tr>\n",
       "    <tr>\n",
       "      <th>2018-12-01</th>\n",
       "      <td>2840374</td>\n",
       "    </tr>\n",
       "  </tbody>\n",
       "</table>\n",
       "<p>100 rows × 1 columns</p>\n",
       "</div>"
      ],
      "text/plain": [
       "              Total\n",
       "data_dte           \n",
       "2010-09-01   983069\n",
       "2010-10-01  1168519\n",
       "2010-11-01  1304977\n",
       "2010-12-01  1586925\n",
       "2011-01-01  1595413\n",
       "...             ...\n",
       "2018-08-01  2587950\n",
       "2018-09-01  1794042\n",
       "2018-10-01  2098763\n",
       "2018-11-01  2409375\n",
       "2018-12-01  2840374\n",
       "\n",
       "[100 rows x 1 columns]"
      ]
     },
     "execution_count": 24,
     "metadata": {},
     "output_type": "execute_result"
    }
   ],
   "source": [
    "#ahora solo necesitaremos el total y la fecha para la prediccion\n",
    "#datasetob1 = pd.DataFrame(datasetob1, columns = ['Total'])\n",
    "train = pd.DataFrame(datasetob1.Total[:\"2018\"])\n",
    "test = pd.DataFrame(datasetob1.Total[\"2019\":])\n",
    "train.tail(100)"
   ]
  },
  {
   "cell_type": "code",
   "execution_count": 25,
   "id": "cf995b6a",
   "metadata": {
    "papermill": {
     "duration": null,
     "end_time": null,
     "exception": null,
     "start_time": null,
     "status": "pending"
    },
    "tags": []
   },
   "outputs": [
    {
     "name": "stdout",
     "output_type": "stream",
     "text": [
      "[array([0.0659498 , 0.0423371 , 0.10138074, 0.08587886, 0.02771648]), array([0.0423371 , 0.10138074, 0.08587886, 0.02771648, 0.04775046]), array([0.10138074, 0.08587886, 0.02771648, 0.04775046, 0.11662111]), array([0.08587886, 0.02771648, 0.04775046, 0.11662111, 0.13971777]), array([0.02771648, 0.04775046, 0.11662111, 0.13971777, 0.        ]), array([0.04775046, 0.11662111, 0.13971777, 0.        , 0.02787387]), array([0.11662111, 0.13971777, 0.        , 0.02787387, 0.05287158]), array([0.13971777, 0.        , 0.02787387, 0.05287158, 0.09437989]), array([0.        , 0.02787387, 0.05287158, 0.09437989, 0.07299492]), array([0.02787387, 0.05287158, 0.09437989, 0.07299492, 0.02556622]), array([0.05287158, 0.09437989, 0.07299492, 0.02556622, 0.12311125]), array([0.09437989, 0.07299492, 0.02556622, 0.12311125, 0.09047573]), array([0.07299492, 0.02556622, 0.12311125, 0.09047573, 0.07005112]), array([0.02556622, 0.12311125, 0.09047573, 0.07005112, 0.08739298]), array([0.12311125, 0.09047573, 0.07005112, 0.08739298, 0.1281553 ]), array([0.09047573, 0.07005112, 0.08739298, 0.1281553 , 0.148882  ]), array([0.07005112, 0.08739298, 0.1281553 , 0.148882  , 0.01925193]), array([0.08739298, 0.1281553 , 0.148882  , 0.01925193, 0.03803084]), array([0.1281553 , 0.148882  , 0.01925193, 0.03803084, 0.05482263]), array([0.148882  , 0.01925193, 0.03803084, 0.05482263, 0.10596941]), array([0.01925193, 0.03803084, 0.05482263, 0.10596941, 0.11187341]), array([0.03803084, 0.05482263, 0.10596941, 0.11187341, 0.08154186]), array([0.05482263, 0.10596941, 0.11187341, 0.08154186, 0.13355924]), array([0.10596941, 0.11187341, 0.08154186, 0.13355924, 0.10843734]), array([0.11187341, 0.08154186, 0.13355924, 0.10843734, 0.0714599 ]), array([0.08154186, 0.13355924, 0.10843734, 0.0714599 , 0.0731019 ]), array([0.13355924, 0.10843734, 0.0714599 , 0.0731019 , 0.14812658]), array([0.10843734, 0.0714599 , 0.0731019 , 0.14812658, 0.17684235]), array([0.0714599 , 0.0731019 , 0.14812658, 0.17684235, 0.02997413]), array([0.0731019 , 0.14812658, 0.17684235, 0.02997413, 0.06421189]), array([0.14812658, 0.17684235, 0.02997413, 0.06421189, 0.08669494]), array([0.17684235, 0.02997413, 0.06421189, 0.08669494, 0.11953786]), array([0.02997413, 0.06421189, 0.08669494, 0.11953786, 0.14765193]), array([0.06421189, 0.08669494, 0.11953786, 0.14765193, 0.10048555]), array([0.08669494, 0.11953786, 0.14765193, 0.10048555, 0.1641359 ]), array([0.11953786, 0.14765193, 0.10048555, 0.1641359 , 0.11914519]), array([0.14765193, 0.10048555, 0.1641359 , 0.11914519, 0.08251534]), array([0.10048555, 0.1641359 , 0.11914519, 0.08251534, 0.08011177]), array([0.1641359 , 0.11914519, 0.08251534, 0.08011177, 0.15297307]), array([0.11914519, 0.08251534, 0.08011177, 0.15297307, 0.15882746]), array([0.08251534, 0.08011177, 0.15297307, 0.15882746, 0.00899699]), array([0.08011177, 0.15297307, 0.15882746, 0.00899699, 0.05528499]), array([0.15297307, 0.15882746, 0.00899699, 0.05528499, 0.06588463]), array([0.15882746, 0.00899699, 0.05528499, 0.06588463, 0.12616203]), array([0.00899699, 0.05528499, 0.06588463, 0.12616203, 0.16808432]), array([0.05528499, 0.06588463, 0.12616203, 0.16808432, 0.1170892 ]), array([0.06588463, 0.12616203, 0.16808432, 0.1170892 , 0.19217208]), array([0.12616203, 0.16808432, 0.1170892 , 0.19217208, 0.12295795]), array([0.16808432, 0.1170892 , 0.19217208, 0.12295795, 0.08167425]), array([0.1170892 , 0.19217208, 0.12295795, 0.08167425, 0.09549027]), array([0.19217208, 0.12295795, 0.08167425, 0.09549027, 0.16219632]), array([0.12295795, 0.08167425, 0.09549027, 0.16219632, 0.15206722]), array([0.08167425, 0.09549027, 0.16219632, 0.15206722, 0.03687292]), array([0.09549027, 0.16219632, 0.15206722, 0.03687292, 0.06558828]), array([0.16219632, 0.15206722, 0.03687292, 0.06558828, 0.08382984]), array([0.15206722, 0.03687292, 0.06558828, 0.08382984, 0.15076624]), array([0.03687292, 0.06558828, 0.08382984, 0.15076624, 0.14310138]), array([0.06558828, 0.08382984, 0.15076624, 0.14310138, 0.10559683]), array([0.08382984, 0.15076624, 0.14310138, 0.10559683, 0.16589226]), array([0.15076624, 0.14310138, 0.10559683, 0.16589226, 0.12780813]), array([0.14310138, 0.10559683, 0.16589226, 0.12780813, 0.07076063]), array([0.10559683, 0.16589226, 0.12780813, 0.07076063, 0.10016625]), array([0.16589226, 0.12780813, 0.07076063, 0.10016625, 0.12758556]), array([0.12780813, 0.07076063, 0.10016625, 0.12758556, 0.12237304]), array([0.07076063, 0.10016625, 0.12758556, 0.12237304, 0.02774722]), array([0.10016625, 0.12758556, 0.12237304, 0.02774722, 0.04806157]), array([0.12758556, 0.12237304, 0.02774722, 0.04806157, 0.08303589]), array([0.12237304, 0.02774722, 0.04806157, 0.08303589, 0.13502089]), array([0.02774722, 0.04806157, 0.08303589, 0.13502089, 0.16846675]), array([0.04806157, 0.08303589, 0.13502089, 0.16846675, 0.17785764]), array([0.08303589, 0.13502089, 0.16846675, 0.17785764, 0.27768369]), array([0.13502089, 0.16846675, 0.17785764, 0.27768369, 0.16544917]), array([0.16846675, 0.17785764, 0.27768369, 0.16544917, 0.13611077]), array([0.17785764, 0.27768369, 0.16544917, 0.13611077, 0.16867825]), array([0.27768369, 0.16544917, 0.13611077, 0.16867825, 0.1718233 ]), array([0.16544917, 0.13611077, 0.16867825, 0.1718233 , 0.18957177]), array([0.13611077, 0.16867825, 0.1718233 , 0.18957177, 0.05282485]), array([0.16867825, 0.1718233 , 0.18957177, 0.05282485, 0.07808939]), array([0.1718233 , 0.18957177, 0.05282485, 0.07808939, 0.12788969]), array([0.18957177, 0.05282485, 0.07808939, 0.12788969, 0.18761333]), array([0.05282485, 0.07808939, 0.12788969, 0.18761333, 0.23412676]), array([0.07808939, 0.12788969, 0.18761333, 0.23412676, 0.19815314]), array([0.12788969, 0.18761333, 0.23412676, 0.19815314, 0.31517389]), array([0.18761333, 0.23412676, 0.19815314, 0.31517389, 0.19112892]), array([0.23412676, 0.19815314, 0.31517389, 0.19112892, 0.16680507]), array([0.19815314, 0.31517389, 0.19112892, 0.16680507, 0.19674313]), array([0.31517389, 0.19112892, 0.16680507, 0.19674313, 0.22248601]), array([0.19112892, 0.16680507, 0.19674313, 0.22248601, 0.23774237]), array([0.16680507, 0.19674313, 0.22248601, 0.23774237, 0.08205176]), array([0.19674313, 0.22248601, 0.23774237, 0.08205176, 0.1140499 ]), array([0.22248601, 0.23774237, 0.08205176, 0.1140499 , 0.15938245]), array([0.23774237, 0.08205176, 0.1140499 , 0.15938245, 0.21727595]), array([0.08205176, 0.1140499 , 0.15938245, 0.21727595, 0.25967576]), array([0.1140499 , 0.15938245, 0.21727595, 0.25967576, 0.21860726]), array([0.15938245, 0.21727595, 0.25967576, 0.21860726, 0.30257933]), array([0.21727595, 0.25967576, 0.21860726, 0.30257933, 0.25090913]), array([0.25967576, 0.21860726, 0.30257933, 0.25090913, 0.21684639]), array([0.21860726, 0.30257933, 0.25090913, 0.21684639, 0.24969873]), array([0.30257933, 0.25090913, 0.21684639, 0.24969873, 0.26870227]), array([0.25090913, 0.21684639, 0.24969873, 0.26870227, 0.25824649]), array([0.21684639, 0.24969873, 0.26870227, 0.25824649, 0.06770002]), array([0.24969873, 0.26870227, 0.25824649, 0.06770002, 0.12342727]), array([0.26870227, 0.25824649, 0.06770002, 0.12342727, 0.17088057]), array([0.25824649, 0.06770002, 0.12342727, 0.17088057, 0.20807483]), array([0.06770002, 0.12342727, 0.17088057, 0.20807483, 0.27092877]), array([0.12342727, 0.17088057, 0.20807483, 0.27092877, 0.22984223]), array([0.17088057, 0.20807483, 0.27092877, 0.22984223, 0.34570259]), array([0.20807483, 0.27092877, 0.22984223, 0.34570259, 0.26991471]), array([0.27092877, 0.22984223, 0.34570259, 0.26991471, 0.22443829]), array([0.22984223, 0.34570259, 0.26991471, 0.22443829, 0.25929375]), array([0.34570259, 0.26991471, 0.22443829, 0.25929375, 0.31600637]), array([0.26991471, 0.22443829, 0.25929375, 0.31600637, 0.28884078]), array([0.22443829, 0.25929375, 0.31600637, 0.28884078, 0.1188054 ]), array([0.25929375, 0.31600637, 0.28884078, 0.1188054 , 0.18574876]), array([0.31600637, 0.28884078, 0.1188054 , 0.18574876, 0.23000249]), array([0.28884078, 0.1188054 , 0.18574876, 0.23000249, 0.23645778]), array([0.1188054 , 0.18574876, 0.23000249, 0.23645778, 0.29133001]), array([0.18574876, 0.23000249, 0.23645778, 0.29133001, 0.28257116]), array([0.23000249, 0.23645778, 0.29133001, 0.28257116, 0.36905912]), array([0.23645778, 0.29133001, 0.28257116, 0.36905912, 0.31314987]), array([0.29133001, 0.28257116, 0.36905912, 0.31314987, 0.29977448]), array([0.28257116, 0.36905912, 0.31314987, 0.29977448, 0.34233825]), array([0.36905912, 0.31314987, 0.29977448, 0.34233825, 0.40228446]), array([0.31314987, 0.29977448, 0.34233825, 0.40228446, 0.3570429 ]), array([0.29977448, 0.34233825, 0.40228446, 0.3570429 , 0.14429414]), array([0.34233825, 0.40228446, 0.3570429 , 0.14429414, 0.1880306 ]), array([0.40228446, 0.3570429 , 0.14429414, 0.1880306 , 0.24310982]), array([0.3570429 , 0.14429414, 0.1880306 , 0.24310982, 0.29335772]), array([0.14429414, 0.1880306 , 0.24310982, 0.29335772, 0.31862923]), array([0.1880306 , 0.24310982, 0.29335772, 0.31862923, 0.29375244]), array([0.24310982, 0.29335772, 0.31862923, 0.29375244, 0.39860122]), array([0.29335772, 0.31862923, 0.29375244, 0.39860122, 0.33240262]), array([0.31862923, 0.29375244, 0.39860122, 0.33240262, 0.26107061]), array([0.29375244, 0.39860122, 0.33240262, 0.26107061, 0.29589245]), array([0.39860122, 0.33240262, 0.26107061, 0.29589245, 0.36588332]), array([0.33240262, 0.26107061, 0.29589245, 0.36588332, 0.31841404]), array([0.26107061, 0.29589245, 0.36588332, 0.31841404, 0.00505143]), array([0.29589245, 0.36588332, 0.31841404, 0.00505143, 0.05029627]), array([0.36588332, 0.31841404, 0.00505143, 0.05029627, 0.13247591]), array([0.31841404, 0.00505143, 0.05029627, 0.13247591, 0.21160559]), array([0.00505143, 0.05029627, 0.13247591, 0.21160559, 0.22040338]), array([0.05029627, 0.13247591, 0.21160559, 0.22040338, 0.20681894]), array([0.13247591, 0.21160559, 0.22040338, 0.20681894, 0.35759338]), array([0.21160559, 0.22040338, 0.20681894, 0.35759338, 0.22733209]), array([0.22040338, 0.20681894, 0.35759338, 0.22733209, 0.20070713]), array([0.20681894, 0.35759338, 0.22733209, 0.20070713, 0.27404718]), array([0.35759338, 0.22733209, 0.20070713, 0.27404718, 0.32383847]), array([0.22733209, 0.20070713, 0.27404718, 0.32383847, 0.28873831]), array([0.20070713, 0.27404718, 0.32383847, 0.28873831, 0.0833802 ]), array([0.27404718, 0.32383847, 0.28873831, 0.0833802 , 0.1335949 ]), array([0.32383847, 0.28873831, 0.0833802 , 0.1335949 , 0.19009027]), array([0.28873831, 0.0833802 , 0.1335949 , 0.19009027, 0.28420415]), array([0.0833802 , 0.1335949 , 0.19009027, 0.28420415, 0.28659952]), array([0.1335949 , 0.19009027, 0.28420415, 0.28659952, 0.237835  ]), array([0.19009027, 0.28420415, 0.28659952, 0.237835  , 0.3507655 ]), array([0.28420415, 0.28659952, 0.237835  , 0.3507655 , 0.24029718]), array([0.28659952, 0.237835  , 0.3507655 , 0.24029718, 0.21648405]), array([0.237835  , 0.3507655 , 0.24029718, 0.21648405, 0.28195552]), array([0.3507655 , 0.24029718, 0.21648405, 0.28195552, 0.37182584]), array([0.24029718, 0.21648405, 0.28195552, 0.37182584, 0.33751676]), array([0.21648405, 0.28195552, 0.37182584, 0.33751676, 0.09529558]), array([0.28195552, 0.37182584, 0.33751676, 0.09529558, 0.15887255]), array([0.37182584, 0.33751676, 0.09529558, 0.15887255, 0.23316476]), array([0.33751676, 0.09529558, 0.15887255, 0.23316476, 0.31947728]), array([0.09529558, 0.15887255, 0.23316476, 0.31947728, 0.34554643]), array([0.15887255, 0.23316476, 0.31947728, 0.34554643, 0.33907064]), array([0.23316476, 0.31947728, 0.34554643, 0.33907064, 0.42252954]), array([0.31947728, 0.34554643, 0.33907064, 0.42252954, 0.37458397]), array([0.34554643, 0.33907064, 0.42252954, 0.37458397, 0.30141935]), array([0.33907064, 0.42252954, 0.37458397, 0.30141935, 0.3661063 ]), array([0.42252954, 0.37458397, 0.30141935, 0.3661063 , 0.4781412 ]), array([0.37458397, 0.30141935, 0.3661063 , 0.4781412 , 0.39349036]), array([0.30141935, 0.3661063 , 0.4781412 , 0.39349036, 0.19909669]), array([0.3661063 , 0.4781412 , 0.39349036, 0.19909669, 0.2400783 ]), array([0.4781412 , 0.39349036, 0.19909669, 0.2400783 , 0.29799394]), array([0.39349036, 0.19909669, 0.2400783 , 0.29799394, 0.40887542]), array([0.19909669, 0.2400783 , 0.29799394, 0.40887542, 0.45533843]), array([0.2400783 , 0.29799394, 0.40887542, 0.45533843, 0.4074068 ]), array([0.29799394, 0.40887542, 0.45533843, 0.4074068 , 0.58210381]), array([0.40887542, 0.45533843, 0.4074068 , 0.58210381, 0.43692104]), array([0.45533843, 0.4074068 , 0.58210381, 0.43692104, 0.38014366]), array([0.4074068 , 0.58210381, 0.43692104, 0.38014366, 0.46304429]), array([0.58210381, 0.43692104, 0.38014366, 0.46304429, 0.5504385 ]), array([0.43692104, 0.38014366, 0.46304429, 0.5504385 , 0.440792  ]), array([0.38014366, 0.46304429, 0.5504385 , 0.440792  , 0.20068377]), array([0.46304429, 0.5504385 , 0.440792  , 0.20068377, 0.24211626]), array([0.5504385 , 0.440792  , 0.20068377, 0.24211626, 0.2373915 ]), array([0.440792  , 0.20068377, 0.24211626, 0.2373915 , 0.4010425 ]), array([0.20068377, 0.24211626, 0.2373915 , 0.4010425 , 0.41938079]), array([0.24211626, 0.2373915 , 0.4010425 , 0.41938079, 0.37650838]), array([0.2373915 , 0.4010425 , 0.41938079, 0.37650838, 0.54148167]), array([0.4010425 , 0.41938079, 0.37650838, 0.54148167, 0.4919396 ]), array([0.41938079, 0.37650838, 0.54148167, 0.4919396 , 0.38092449]), array([0.37650838, 0.54148167, 0.4919396 , 0.38092449, 0.45136336]), array([0.54148167, 0.4919396 , 0.38092449, 0.45136336, 0.55245841]), array([0.4919396 , 0.38092449, 0.45136336, 0.55245841, 0.42739365]), array([0.38092449, 0.45136336, 0.55245841, 0.42739365, 0.16394776]), array([0.45136336, 0.55245841, 0.42739365, 0.16394776, 0.24014266]), array([0.55245841, 0.42739365, 0.16394776, 0.24014266, 0.34120697]), array([0.42739365, 0.16394776, 0.24014266, 0.34120697, 0.47540685]), array([0.16394776, 0.24014266, 0.34120697, 0.47540685, 0.46347754]), array([0.24014266, 0.34120697, 0.47540685, 0.46347754, 0.38293826]), array([0.34120697, 0.47540685, 0.46347754, 0.38293826, 0.57514682]), array([0.47540685, 0.46347754, 0.38293826, 0.57514682, 0.48634752]), array([0.46347754, 0.38293826, 0.57514682, 0.48634752, 0.38203241]), array([0.38293826, 0.57514682, 0.48634752, 0.38203241, 0.44611314]), array([0.57514682, 0.48634752, 0.38203241, 0.44611314, 0.54616339]), array([0.48634752, 0.38203241, 0.44611314, 0.54616339, 0.43949266]), array([0.38203241, 0.44611314, 0.54616339, 0.43949266, 0.1954483 ]), array([0.44611314, 0.54616339, 0.43949266, 0.1954483 , 0.27111486]), array([0.54616339, 0.43949266, 0.1954483 , 0.27111486, 0.37350843]), array([0.43949266, 0.1954483 , 0.27111486, 0.37350843, 0.48994017]), array([0.1954483 , 0.27111486, 0.37350843, 0.48994017, 0.4945768 ]), array([0.27111486, 0.37350843, 0.48994017, 0.4945768 , 0.45710012]), array([0.37350843, 0.48994017, 0.4945768 , 0.45710012, 0.65099168]), array([0.48994017, 0.4945768 , 0.45710012, 0.65099168, 0.45470926]), array([0.4945768 , 0.45710012, 0.65099168, 0.45470926, 0.41490402]), array([0.45710012, 0.65099168, 0.45470926, 0.41490402, 0.44760471]), array([0.65099168, 0.45470926, 0.41490402, 0.44760471, 0.5017662 ]), array([0.45470926, 0.41490402, 0.44760471, 0.5017662 , 0.4240457 ]), array([0.41490402, 0.44760471, 0.5017662 , 0.4240457 , 0.15089822]), array([0.44760471, 0.5017662 , 0.4240457 , 0.15089822, 0.22739398]), array([0.5017662 , 0.4240457 , 0.15089822, 0.22739398, 0.31479802]), array([0.4240457 , 0.15089822, 0.22739398, 0.31479802, 0.41646282]), array([0.15089822, 0.22739398, 0.31479802, 0.41646282, 0.43352677]), array([0.22739398, 0.31479802, 0.41646282, 0.43352677, 0.39591524]), array([0.31479802, 0.41646282, 0.43352677, 0.39591524, 0.50257039]), array([0.41646282, 0.43352677, 0.39591524, 0.50257039, 0.42472366]), array([0.43352677, 0.39591524, 0.50257039, 0.42472366, 0.09515212]), array([0.39591524, 0.50257039, 0.42472366, 0.09515212, 0.26851864]), array([0.50257039, 0.42472366, 0.09515212, 0.26851864, 0.37826556]), array([0.42472366, 0.09515212, 0.26851864, 0.37826556, 0.33265224]), array([0.09515212, 0.26851864, 0.37826556, 0.33265224, 0.13650099]), array([0.26851864, 0.37826556, 0.33265224, 0.13650099, 0.21416246]), array([0.37826556, 0.33265224, 0.13650099, 0.21416246, 0.29188623]), array([0.33265224, 0.13650099, 0.21416246, 0.29188623, 0.41135892]), array([0.13650099, 0.21416246, 0.29188623, 0.41135892, 0.42875611]), array([0.21416246, 0.29188623, 0.41135892, 0.42875611, 0.37620383]), array([0.29188623, 0.41135892, 0.42875611, 0.37620383, 0.50780341]), array([0.41135892, 0.42875611, 0.37620383, 0.50780341, 0.39889306]), array([0.42875611, 0.37620383, 0.50780341, 0.39889306, 0.33850295]), array([0.37620383, 0.50780341, 0.39889306, 0.33850295, 0.37427778]), array([0.50780341, 0.39889306, 0.33850295, 0.37427778, 0.48744069]), array([0.39889306, 0.33850295, 0.37427778, 0.48744069, 0.37706459]), array([0.33850295, 0.37427778, 0.48744069, 0.37706459, 0.14024201]), array([0.37427778, 0.48744069, 0.37706459, 0.14024201, 0.21625533]), array([0.48744069, 0.37706459, 0.14024201, 0.21625533, 0.27218753]), array([0.37706459, 0.14024201, 0.21625533, 0.27218753, 0.38775401]), array([0.14024201, 0.21625533, 0.27218753, 0.38775401, 0.39123312]), array([0.21625533, 0.27218753, 0.38775401, 0.39123312, 0.33375811]), array([0.27218753, 0.38775401, 0.39123312, 0.33375811, 0.47570074]), array([0.38775401, 0.39123312, 0.33375811, 0.47570074, 0.40740434]), array([0.39123312, 0.33375811, 0.47570074, 0.40740434, 0.33374172]), array([0.33375811, 0.47570074, 0.40740434, 0.33374172, 0.36209188]), array([0.47570074, 0.40740434, 0.33374172, 0.36209188, 0.49827151]), array([0.40740434, 0.33374172, 0.36209188, 0.49827151, 0.37760523]), array([0.33374172, 0.36209188, 0.49827151, 0.37760523, 0.19274264]), array([0.36209188, 0.49827151, 0.37760523, 0.19274264, 0.25729474]), array([0.49827151, 0.37760523, 0.19274264, 0.25729474, 0.31907805]), array([0.37760523, 0.19274264, 0.25729474, 0.31907805, 0.47023327]), array([0.19274264, 0.25729474, 0.31907805, 0.47023327, 0.43046697]), array([0.25729474, 0.31907805, 0.47023327, 0.43046697, 0.36077614]), array([0.31907805, 0.47023327, 0.43046697, 0.36077614, 0.50635733]), array([0.47023327, 0.43046697, 0.36077614, 0.50635733, 0.40596195]), array([0.43046697, 0.36077614, 0.50635733, 0.40596195, 0.33732371]), array([0.36077614, 0.50635733, 0.40596195, 0.33732371, 0.39278208]), array([0.50635733, 0.40596195, 0.33732371, 0.39278208, 0.51284582]), array([0.40596195, 0.33732371, 0.39278208, 0.51284582, 0.40910045]), array([0.33732371, 0.39278208, 0.51284582, 0.40910045, 0.21035462]), array([0.39278208, 0.51284582, 0.40910045, 0.21035462, 0.2843349 ]), array([0.51284582, 0.40910045, 0.21035462, 0.2843349 , 0.36538326]), array([0.40910045, 0.21035462, 0.2843349 , 0.36538326, 0.50296142]), array([0.21035462, 0.2843349 , 0.36538326, 0.50296142, 0.46931677]), array([0.2843349 , 0.36538326, 0.50296142, 0.46931677, 0.39284069]), array([0.36538326, 0.50296142, 0.46931677, 0.39284069, 0.58657034]), array([0.50296142, 0.46931677, 0.39284069, 0.58657034, 0.43275373]), array([0.46931677, 0.39284069, 0.58657034, 0.43275373, 0.41007885]), array([0.39284069, 0.58657034, 0.43275373, 0.41007885, 0.47745587]), array([0.58657034, 0.43275373, 0.41007885, 0.47745587, 0.58528371]), array([0.43275373, 0.41007885, 0.47745587, 0.58528371, 0.47855682]), array([0.41007885, 0.47745587, 0.58528371, 0.47855682, 0.25397548]), array([0.47745587, 0.58528371, 0.47855682, 0.25397548, 0.32900262]), array([0.58528371, 0.47855682, 0.25397548, 0.32900262, 0.41033338]), array([0.47855682, 0.25397548, 0.32900262, 0.41033338, 0.57235468]), array([0.25397548, 0.32900262, 0.41033338, 0.57235468, 0.56355238]), array([0.32900262, 0.41033338, 0.57235468, 0.56355238, 0.38904597]), array([0.41033338, 0.57235468, 0.56355238, 0.38904597, 0.64643867]), array([0.57235468, 0.56355238, 0.38904597, 0.64643867, 0.53699629]), array([0.56355238, 0.38904597, 0.64643867, 0.53699629, 0.49718367]), array([0.38904597, 0.64643867, 0.53699629, 0.49718367, 0.54618634]), array([0.64643867, 0.53699629, 0.49718367, 0.54618634, 0.66844298]), array([0.53699629, 0.49718367, 0.54618634, 0.66844298, 0.5519313 ]), array([0.49718367, 0.54618634, 0.66844298, 0.5519313 , 0.26287615]), array([0.54618634, 0.66844298, 0.5519313 , 0.26287615, 0.32606497]), array([0.66844298, 0.5519313 , 0.26287615, 0.32606497, 0.37909845]), array([0.5519313 , 0.26287615, 0.32606497, 0.37909845, 0.59362529]), array([0.26287615, 0.32606497, 0.37909845, 0.59362529, 0.62776263]), array([0.32606497, 0.37909845, 0.59362529, 0.62776263, 0.52365861]), array([0.37909845, 0.59362529, 0.62776263, 0.52365861, 0.6933419 ]), array([0.59362529, 0.62776263, 0.52365861, 0.6933419 , 0.62433353]), array([0.62776263, 0.52365861, 0.6933419 , 0.62433353, 0.59215216]), array([0.52365861, 0.6933419 , 0.62433353, 0.59215216, 0.65538934]), array([0.6933419 , 0.62433353, 0.59215216, 0.65538934, 0.79537641]), array([0.62433353, 0.59215216, 0.65538934, 0.79537641, 0.67774656]), array([0.59215216, 0.65538934, 0.79537641, 0.67774656, 0.36597759]), array([0.65538934, 0.79537641, 0.67774656, 0.36597759, 0.4733689 ]), array([0.79537641, 0.67774656, 0.36597759, 0.4733689 , 0.57641583]), array([0.67774656, 0.36597759, 0.4733689 , 0.57641583, 0.74590401]), array([0.36597759, 0.4733689 , 0.57641583, 0.74590401, 0.72733332]), array([0.4733689 , 0.57641583, 0.74590401, 0.72733332, 0.62312026]), array([0.57641583, 0.74590401, 0.72733332, 0.62312026, 0.82131767]), array([0.74590401, 0.72733332, 0.62312026, 0.82131767, 0.6552176 ]), array([0.72733332, 0.62312026, 0.82131767, 0.6552176 , 0.64451794]), array([0.62312026, 0.82131767, 0.6552176 , 0.64451794, 0.73494489]), array([0.82131767, 0.6552176 , 0.64451794, 0.73494489, 0.87236361]), array([0.6552176 , 0.64451794, 0.73494489, 0.87236361, 0.69805476]), array([0.64451794, 0.73494489, 0.87236361, 0.69805476, 0.42568648]), array([0.73494489, 0.87236361, 0.69805476, 0.42568648, 0.53908671]), array([0.87236361, 0.69805476, 0.42568648, 0.53908671, 0.62808234]), array([0.69805476, 0.42568648, 0.53908671, 0.62808234, 0.85642766]), array([0.42568648, 0.53908671, 0.62808234, 0.85642766, 0.84060034]), array([0.53908671, 0.62808234, 0.85642766, 0.84060034, 0.67212293]), array([0.62808234, 0.85642766, 0.84060034, 0.67212293, 0.86478688]), array([0.85642766, 0.84060034, 0.67212293, 0.86478688, 0.81373724]), array([0.84060034, 0.67212293, 0.86478688, 0.81373724, 0.7194631 ]), array([0.67212293, 0.86478688, 0.81373724, 0.7194631 , 0.8191756 ]), array([0.86478688, 0.81373724, 0.7194631 , 0.8191756 , 0.9625139 ]), array([0.81373724, 0.7194631 , 0.8191756 , 0.9625139 , 0.81203457]), array([0.7194631 , 0.8191756 , 0.9625139 , 0.81203457, 0.42723585]), array([0.8191756 , 0.9625139 , 0.81203457, 0.42723585, 0.5469184 ]), array([0.9625139 , 0.81203457, 0.42723585, 0.5469184 , 0.67866184]), array([0.81203457, 0.42723585, 0.5469184 , 0.67866184, 0.91464415]), array([0.42723585, 0.5469184 , 0.67866184, 0.91464415, 0.87109215]), array([0.5469184 , 0.67866184, 0.91464415, 0.87109215, 0.72088499]), array([0.67866184, 0.91464415, 0.87109215, 0.72088499, 0.96918151]), array([0.91464415, 0.87109215, 0.72088499, 0.96918151, 0.80247973]), array([0.87109215, 0.72088499, 0.96918151, 0.80247973, 0.74185311]), array([0.72088499, 0.96918151, 0.80247973, 0.74185311, 0.86437043]), array([0.96918151, 0.80247973, 0.74185311, 0.86437043, 1.        ]), array([0.80247973, 0.74185311, 0.86437043, 1.        , 0.79805993]), array([0.74185311, 0.86437043, 1.        , 0.79805993, 0.47264832]), array([0.86437043, 1.        , 0.79805993, 0.47264832, 0.59754913]), array([1.        , 0.79805993, 0.47264832, 0.59754913, 0.72486457])]\n"
     ]
    }
   ],
   "source": [
    "minmaxSc=MinMaxScaler()\n",
    "sc_train= minmaxSc.fit_transform(train)\n",
    "windows = 5\n",
    "X_train = []\n",
    "Y_train = []\n",
    "#print(windows)\n",
    "#rint(sc_train.size)\n",
    "for i in range(windows,sc_train.size):\n",
    "    X_train.append(sc_train[i-windows:i,0])\n",
    "    Y_train.append(sc_train[i,0])\n",
    "print(X_train)"
   ]
  },
  {
   "cell_type": "code",
   "execution_count": null,
   "id": "b42e110c",
   "metadata": {
    "papermill": {
     "duration": null,
     "end_time": null,
     "exception": null,
     "start_time": null,
     "status": "pending"
    },
    "tags": []
   },
   "outputs": [
    {
     "name": "stdout",
     "output_type": "stream",
     "text": [
      "Epoch 1/10\n",
      "6/6 [==============================] - 11s 175ms/step - loss: 0.0706\n",
      "Epoch 2/10\n",
      "6/6 [==============================] - 1s 130ms/step - loss: 0.0235\n",
      "Epoch 3/10\n",
      "6/6 [==============================] - 1s 179ms/step - loss: 0.0195\n",
      "Epoch 4/10\n",
      "6/6 [==============================] - 1s 134ms/step - loss: 0.0151\n",
      "Epoch 5/10\n",
      "6/6 [==============================] - 1s 134ms/step - loss: 0.0144\n",
      "Epoch 6/10\n",
      "6/6 [==============================] - 1s 160ms/step - loss: 0.0138\n",
      "Epoch 7/10\n",
      "2/6 [=========>....................] - ETA: 0s - loss: 0.0120"
     ]
    }
   ],
   "source": [
    "X_train,Y_train = np.array(X_train),np.array(Y_train)\n",
    "X_train = np.reshape(X_train,(X_train.shape[0],X_train.shape[1],1))\n",
    "modelo=Sequential()\n",
    "modelo.add(LSTM(units=600, input_shape=(X_train.shape[1],1)))\n",
    "modelo.add(Dense(1))\n",
    "modelo.compile(optimizer=\"adam\",loss=\"mse\")\n",
    "modelo.fit(X_train,Y_train,epochs=10,batch_size=64)"
   ]
  },
  {
   "cell_type": "code",
   "execution_count": null,
   "id": "4f7529d6",
   "metadata": {
    "papermill": {
     "duration": null,
     "end_time": null,
     "exception": null,
     "start_time": null,
     "status": "pending"
    },
    "tags": []
   },
   "outputs": [],
   "source": [
    "sc_test = minmaxSc.transform(test)\n",
    "X_test = []\n",
    "for i in range(windows,sc_test.size):\n",
    "    X_test.append(sc_test[i-windows:i,0])"
   ]
  },
  {
   "cell_type": "code",
   "execution_count": null,
   "id": "92798b98",
   "metadata": {
    "papermill": {
     "duration": null,
     "end_time": null,
     "exception": null,
     "start_time": null,
     "status": "pending"
    },
    "tags": []
   },
   "outputs": [],
   "source": [
    "X_test=np.array(X_test)\n",
    "X_test= np.reshape(X_test,(X_test.shape[0],X_test.shape[1],1))\n",
    "pred=modelo.predict(X_test)\n",
    "pred=minmaxSc.inverse_transform(pred)"
   ]
  },
  {
   "cell_type": "code",
   "execution_count": null,
   "id": "3271654d",
   "metadata": {
    "papermill": {
     "duration": null,
     "end_time": null,
     "exception": null,
     "start_time": null,
     "status": "pending"
    },
    "tags": []
   },
   "outputs": [],
   "source": [
    "test[\"pred\"]=np.concatenate(([np.nan]*windows,pred),axis=None)\n",
    "plt.plot(test[\"Total\"],color=\"darkcyan\")\n",
    "plt.plot(test[\"pred\"],color=\"darkslategrey\")\n",
    "#plt.ylim(1.1*np.min(pred)/2, 1.1 *np.max(pred))\n",
    "plt.show()"
   ]
  }
 ],
 "metadata": {
  "kernelspec": {
   "display_name": "ml-env",
   "language": "python",
   "name": "ml-env"
  },
  "language_info": {
   "codemirror_mode": {
    "name": "ipython",
    "version": 3
   },
   "file_extension": ".py",
   "mimetype": "text/x-python",
   "name": "python",
   "nbconvert_exporter": "python",
   "pygments_lexer": "ipython3",
   "version": "3.8.5"
  },
  "papermill": {
   "default_parameters": {},
   "duration": 34.238366,
   "end_time": "2023-01-28T14:53:52.110067",
   "environment_variables": {},
   "exception": true,
   "input_path": "__notebook__.ipynb",
   "output_path": "__notebook__.ipynb",
   "parameters": {},
   "start_time": "2023-01-28T14:53:17.871701",
   "version": "2.3.4"
  }
 },
 "nbformat": 4,
 "nbformat_minor": 5
}
