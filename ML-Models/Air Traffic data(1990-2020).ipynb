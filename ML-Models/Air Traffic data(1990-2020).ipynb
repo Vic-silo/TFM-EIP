{
 "cells": [
  {
   "cell_type": "code",
   "execution_count": 1,
   "id": "bbe2ad6a",
   "metadata": {
    "execution": {
     "iopub.execute_input": "2023-01-28T14:53:27.478084Z",
     "iopub.status.busy": "2023-01-28T14:53:27.477409Z",
     "iopub.status.idle": "2023-01-28T14:53:27.485279Z",
     "shell.execute_reply": "2023-01-28T14:53:27.483605Z"
    },
    "id": "6ckOwDo3qa3w",
    "outputId": "3be32dfb-0245-4f5e-b2cc-9ebf0fc4ca2f",
    "papermill": {
     "duration": 0.024738,
     "end_time": "2023-01-28T14:53:27.488605",
     "exception": false,
     "start_time": "2023-01-28T14:53:27.463867",
     "status": "completed"
    },
    "tags": []
   },
   "outputs": [],
   "source": [
    "#df =pd.read_csv(\"International_Report_Passengers.csv\",index_col=\"data_dte\",parse_dates=[\"data_dte\"])\n",
    "#df1 = pd.DataFrame(df, columns = ['fg_wac', 'Total'])\n",
    "#df1\n",
    "#dataset.dropna(inplace=True)"
   ]
  },
  {
   "cell_type": "code",
   "execution_count": 2,
   "id": "c5a56d69",
   "metadata": {
    "execution": {
     "iopub.execute_input": "2023-01-28T14:53:27.510098Z",
     "iopub.status.busy": "2023-01-28T14:53:27.509673Z",
     "iopub.status.idle": "2023-01-28T14:53:27.514472Z",
     "shell.execute_reply": "2023-01-28T14:53:27.513265Z"
    },
    "papermill": {
     "duration": 0.018247,
     "end_time": "2023-01-28T14:53:27.516707",
     "exception": false,
     "start_time": "2023-01-28T14:53:27.498460",
     "status": "completed"
    },
    "tags": []
   },
   "outputs": [],
   "source": [
    "#del(df['usg_apt_id'])\n",
    "#del(df['Scheduled'])\n",
    "#del(df['Charter'])\n",
    "#del(df['usg_apt'])\n",
    "#del(df['fg_apt'])\n",
    "#del(df['year'])\n",
    "#del(df['month'])\n",
    "#Nos quedamos con las variables más relevantes\n",
    "#df = pd.DataFrame(df, columns = ['fg_wac', 'Total'])"
   ]
  },
  {
   "cell_type": "markdown",
   "id": "c020c737",
   "metadata": {
    "papermill": {
     "duration": 0.009081,
     "end_time": "2023-01-28T14:53:27.535233",
     "exception": false,
     "start_time": "2023-01-28T14:53:27.526152",
     "status": "completed"
    },
    "tags": []
   },
   "source": [
    "# Preprocesamiento"
   ]
  },
  {
   "cell_type": "markdown",
   "id": "e350650c",
   "metadata": {
    "papermill": {
     "duration": 0.009046,
     "end_time": "2023-01-28T14:53:27.553638",
     "exception": false,
     "start_time": "2023-01-28T14:53:27.544592",
     "status": "completed"
    },
    "tags": []
   },
   "source": [
    "## Importacion de librerias"
   ]
  },
  {
   "cell_type": "code",
   "execution_count": 3,
   "id": "5379376f",
   "metadata": {
    "execution": {
     "iopub.execute_input": "2023-01-28T14:53:27.576320Z",
     "iopub.status.busy": "2023-01-28T14:53:27.574990Z",
     "iopub.status.idle": "2023-01-28T14:53:35.648752Z",
     "shell.execute_reply": "2023-01-28T14:53:35.647396Z"
    },
    "papermill": {
     "duration": 8.08803,
     "end_time": "2023-01-28T14:53:35.652084",
     "exception": false,
     "start_time": "2023-01-28T14:53:27.564054",
     "status": "completed"
    },
    "tags": []
   },
   "outputs": [],
   "source": [
    "import numpy as np\n",
    "import matplotlib.pyplot as plt\n",
    "import pandas as pd\n",
    "from sklearn.preprocessing import MinMaxScaler\n",
    "from keras.models import Sequential\n",
    "from keras.layers import Dense,LSTM"
   ]
  },
  {
   "cell_type": "markdown",
   "id": "c502e6d1",
   "metadata": {
    "papermill": {
     "duration": 0.009483,
     "end_time": "2023-01-28T14:53:35.671501",
     "exception": false,
     "start_time": "2023-01-28T14:53:35.662018",
     "status": "completed"
    },
    "tags": []
   },
   "source": [
    "## Carga del dataset y seleccion de columnas"
   ]
  },
  {
   "cell_type": "code",
   "execution_count": 4,
   "id": "9ed59a62",
   "metadata": {
    "execution": {
     "iopub.execute_input": "2023-01-28T14:53:35.693438Z",
     "iopub.status.busy": "2023-01-28T14:53:35.692687Z",
     "iopub.status.idle": "2023-01-28T14:53:38.256229Z",
     "shell.execute_reply": "2023-01-28T14:53:38.254842Z"
    },
    "papermill": {
     "duration": 2.578001,
     "end_time": "2023-01-28T14:53:38.259269",
     "exception": false,
     "start_time": "2023-01-28T14:53:35.681268",
     "status": "completed"
    },
    "tags": []
   },
   "outputs": [
    {
     "data": {
      "text/html": [
       "<div>\n",
       "<style scoped>\n",
       "    .dataframe tbody tr th:only-of-type {\n",
       "        vertical-align: middle;\n",
       "    }\n",
       "\n",
       "    .dataframe tbody tr th {\n",
       "        vertical-align: top;\n",
       "    }\n",
       "\n",
       "    .dataframe thead th {\n",
       "        text-align: right;\n",
       "    }\n",
       "</style>\n",
       "<table border=\"1\" class=\"dataframe\">\n",
       "  <thead>\n",
       "    <tr style=\"text-align: right;\">\n",
       "      <th></th>\n",
       "      <th>data_dte</th>\n",
       "      <th>Year</th>\n",
       "      <th>Month</th>\n",
       "      <th>usg_apt_id</th>\n",
       "      <th>usg_apt</th>\n",
       "      <th>usg_wac</th>\n",
       "      <th>fg_apt_id</th>\n",
       "      <th>fg_apt</th>\n",
       "      <th>fg_wac</th>\n",
       "      <th>airlineid</th>\n",
       "      <th>carrier</th>\n",
       "      <th>carriergroup</th>\n",
       "      <th>type</th>\n",
       "      <th>Scheduled</th>\n",
       "      <th>Charter</th>\n",
       "      <th>Total</th>\n",
       "    </tr>\n",
       "  </thead>\n",
       "  <tbody>\n",
       "    <tr>\n",
       "      <th>0</th>\n",
       "      <td>2014-05-01</td>\n",
       "      <td>2014</td>\n",
       "      <td>5</td>\n",
       "      <td>14492</td>\n",
       "      <td>RDU</td>\n",
       "      <td>36</td>\n",
       "      <td>11032</td>\n",
       "      <td>CUN</td>\n",
       "      <td>148</td>\n",
       "      <td>19534</td>\n",
       "      <td>AM</td>\n",
       "      <td>0</td>\n",
       "      <td>Passengers</td>\n",
       "      <td>0</td>\n",
       "      <td>315</td>\n",
       "      <td>315</td>\n",
       "    </tr>\n",
       "    <tr>\n",
       "      <th>1</th>\n",
       "      <td>2007-06-01</td>\n",
       "      <td>2007</td>\n",
       "      <td>6</td>\n",
       "      <td>13204</td>\n",
       "      <td>MCO</td>\n",
       "      <td>33</td>\n",
       "      <td>16085</td>\n",
       "      <td>YHZ</td>\n",
       "      <td>951</td>\n",
       "      <td>20364</td>\n",
       "      <td>C6</td>\n",
       "      <td>0</td>\n",
       "      <td>Passengers</td>\n",
       "      <td>0</td>\n",
       "      <td>683</td>\n",
       "      <td>683</td>\n",
       "    </tr>\n",
       "    <tr>\n",
       "      <th>2</th>\n",
       "      <td>2005-12-01</td>\n",
       "      <td>2005</td>\n",
       "      <td>12</td>\n",
       "      <td>11433</td>\n",
       "      <td>DTW</td>\n",
       "      <td>43</td>\n",
       "      <td>10411</td>\n",
       "      <td>AUA</td>\n",
       "      <td>277</td>\n",
       "      <td>20344</td>\n",
       "      <td>RD</td>\n",
       "      <td>1</td>\n",
       "      <td>Passengers</td>\n",
       "      <td>0</td>\n",
       "      <td>1010</td>\n",
       "      <td>1010</td>\n",
       "    </tr>\n",
       "    <tr>\n",
       "      <th>3</th>\n",
       "      <td>2003-04-01</td>\n",
       "      <td>2003</td>\n",
       "      <td>4</td>\n",
       "      <td>13487</td>\n",
       "      <td>MSP</td>\n",
       "      <td>63</td>\n",
       "      <td>16304</td>\n",
       "      <td>ZIH</td>\n",
       "      <td>148</td>\n",
       "      <td>20204</td>\n",
       "      <td>MG</td>\n",
       "      <td>1</td>\n",
       "      <td>Passengers</td>\n",
       "      <td>0</td>\n",
       "      <td>508</td>\n",
       "      <td>508</td>\n",
       "    </tr>\n",
       "    <tr>\n",
       "      <th>4</th>\n",
       "      <td>2005-12-01</td>\n",
       "      <td>2005</td>\n",
       "      <td>12</td>\n",
       "      <td>12016</td>\n",
       "      <td>GUM</td>\n",
       "      <td>5</td>\n",
       "      <td>11138</td>\n",
       "      <td>CRK</td>\n",
       "      <td>766</td>\n",
       "      <td>20312</td>\n",
       "      <td>TZ</td>\n",
       "      <td>1</td>\n",
       "      <td>Passengers</td>\n",
       "      <td>0</td>\n",
       "      <td>76</td>\n",
       "      <td>76</td>\n",
       "    </tr>\n",
       "    <tr>\n",
       "      <th>...</th>\n",
       "      <td>...</td>\n",
       "      <td>...</td>\n",
       "      <td>...</td>\n",
       "      <td>...</td>\n",
       "      <td>...</td>\n",
       "      <td>...</td>\n",
       "      <td>...</td>\n",
       "      <td>...</td>\n",
       "      <td>...</td>\n",
       "      <td>...</td>\n",
       "      <td>...</td>\n",
       "      <td>...</td>\n",
       "      <td>...</td>\n",
       "      <td>...</td>\n",
       "      <td>...</td>\n",
       "      <td>...</td>\n",
       "    </tr>\n",
       "    <tr>\n",
       "      <th>680980</th>\n",
       "      <td>2015-10-01</td>\n",
       "      <td>2015</td>\n",
       "      <td>10</td>\n",
       "      <td>12478</td>\n",
       "      <td>JFK</td>\n",
       "      <td>22</td>\n",
       "      <td>12972</td>\n",
       "      <td>LHR</td>\n",
       "      <td>493</td>\n",
       "      <td>19540</td>\n",
       "      <td>BA</td>\n",
       "      <td>0</td>\n",
       "      <td>Passengers</td>\n",
       "      <td>130217</td>\n",
       "      <td>0</td>\n",
       "      <td>130217</td>\n",
       "    </tr>\n",
       "    <tr>\n",
       "      <th>680981</th>\n",
       "      <td>2014-09-01</td>\n",
       "      <td>2014</td>\n",
       "      <td>9</td>\n",
       "      <td>12478</td>\n",
       "      <td>JFK</td>\n",
       "      <td>22</td>\n",
       "      <td>12972</td>\n",
       "      <td>LHR</td>\n",
       "      <td>493</td>\n",
       "      <td>19540</td>\n",
       "      <td>BA</td>\n",
       "      <td>0</td>\n",
       "      <td>Passengers</td>\n",
       "      <td>132052</td>\n",
       "      <td>0</td>\n",
       "      <td>132052</td>\n",
       "    </tr>\n",
       "    <tr>\n",
       "      <th>680982</th>\n",
       "      <td>2014-10-01</td>\n",
       "      <td>2014</td>\n",
       "      <td>10</td>\n",
       "      <td>12478</td>\n",
       "      <td>JFK</td>\n",
       "      <td>22</td>\n",
       "      <td>12972</td>\n",
       "      <td>LHR</td>\n",
       "      <td>493</td>\n",
       "      <td>19540</td>\n",
       "      <td>BA</td>\n",
       "      <td>0</td>\n",
       "      <td>Passengers</td>\n",
       "      <td>132822</td>\n",
       "      <td>0</td>\n",
       "      <td>132822</td>\n",
       "    </tr>\n",
       "    <tr>\n",
       "      <th>680983</th>\n",
       "      <td>2014-08-01</td>\n",
       "      <td>2014</td>\n",
       "      <td>8</td>\n",
       "      <td>12478</td>\n",
       "      <td>JFK</td>\n",
       "      <td>22</td>\n",
       "      <td>12972</td>\n",
       "      <td>LHR</td>\n",
       "      <td>493</td>\n",
       "      <td>19540</td>\n",
       "      <td>BA</td>\n",
       "      <td>0</td>\n",
       "      <td>Passengers</td>\n",
       "      <td>134263</td>\n",
       "      <td>0</td>\n",
       "      <td>134263</td>\n",
       "    </tr>\n",
       "    <tr>\n",
       "      <th>680984</th>\n",
       "      <td>1990-03-01</td>\n",
       "      <td>1990</td>\n",
       "      <td>3</td>\n",
       "      <td>12478</td>\n",
       "      <td>JFK</td>\n",
       "      <td>22</td>\n",
       "      <td>12972</td>\n",
       "      <td>LHR</td>\n",
       "      <td>493</td>\n",
       "      <td>19540</td>\n",
       "      <td>BA</td>\n",
       "      <td>0</td>\n",
       "      <td>Passengers</td>\n",
       "      <td>149898</td>\n",
       "      <td>297</td>\n",
       "      <td>150195</td>\n",
       "    </tr>\n",
       "  </tbody>\n",
       "</table>\n",
       "<p>680985 rows × 16 columns</p>\n",
       "</div>"
      ],
      "text/plain": [
       "         data_dte  Year  Month  usg_apt_id usg_apt  usg_wac  fg_apt_id fg_apt  \\\n",
       "0      2014-05-01  2014      5       14492     RDU       36      11032    CUN   \n",
       "1      2007-06-01  2007      6       13204     MCO       33      16085    YHZ   \n",
       "2      2005-12-01  2005     12       11433     DTW       43      10411    AUA   \n",
       "3      2003-04-01  2003      4       13487     MSP       63      16304    ZIH   \n",
       "4      2005-12-01  2005     12       12016     GUM        5      11138    CRK   \n",
       "...           ...   ...    ...         ...     ...      ...        ...    ...   \n",
       "680980 2015-10-01  2015     10       12478     JFK       22      12972    LHR   \n",
       "680981 2014-09-01  2014      9       12478     JFK       22      12972    LHR   \n",
       "680982 2014-10-01  2014     10       12478     JFK       22      12972    LHR   \n",
       "680983 2014-08-01  2014      8       12478     JFK       22      12972    LHR   \n",
       "680984 1990-03-01  1990      3       12478     JFK       22      12972    LHR   \n",
       "\n",
       "        fg_wac  airlineid carrier  carriergroup        type  Scheduled  \\\n",
       "0          148      19534      AM             0  Passengers          0   \n",
       "1          951      20364      C6             0  Passengers          0   \n",
       "2          277      20344      RD             1  Passengers          0   \n",
       "3          148      20204      MG             1  Passengers          0   \n",
       "4          766      20312      TZ             1  Passengers          0   \n",
       "...        ...        ...     ...           ...         ...        ...   \n",
       "680980     493      19540      BA             0  Passengers     130217   \n",
       "680981     493      19540      BA             0  Passengers     132052   \n",
       "680982     493      19540      BA             0  Passengers     132822   \n",
       "680983     493      19540      BA             0  Passengers     134263   \n",
       "680984     493      19540      BA             0  Passengers     149898   \n",
       "\n",
       "        Charter   Total  \n",
       "0           315     315  \n",
       "1           683     683  \n",
       "2          1010    1010  \n",
       "3           508     508  \n",
       "4            76      76  \n",
       "...         ...     ...  \n",
       "680980        0  130217  \n",
       "680981        0  132052  \n",
       "680982        0  132822  \n",
       "680983        0  134263  \n",
       "680984      297  150195  \n",
       "\n",
       "[680985 rows x 16 columns]"
      ]
     },
     "execution_count": 4,
     "metadata": {},
     "output_type": "execute_result"
    }
   ],
   "source": [
    "#df =pd.read_csv(\"International_Report_Passengers.csv\",parse_dates=[\"data_dte\"])\n",
    "df = pd.read_csv(\"/kaggle/input/us-international-air-traffic-data/International_Report_Passengers.csv\",parse_dates=[\"data_dte\"])\n",
    "\n",
    "\n",
    "#df = pd.DataFrame(df, columns = ['data_dte','fg_wac', 'Total'])\n",
    "#datasetob1=df\n",
    "df"
   ]
  },
  {
   "cell_type": "markdown",
   "id": "65d6fef2",
   "metadata": {
    "papermill": {
     "duration": 0.010092,
     "end_time": "2023-01-28T14:53:38.279217",
     "exception": false,
     "start_time": "2023-01-28T14:53:38.269125",
     "status": "completed"
    },
    "tags": []
   },
   "source": [
    "### Descripcion de variables"
   ]
  },
  {
   "cell_type": "code",
   "execution_count": 5,
   "id": "000c5c9d",
   "metadata": {
    "execution": {
     "iopub.execute_input": "2023-01-28T14:53:38.301192Z",
     "iopub.status.busy": "2023-01-28T14:53:38.300671Z",
     "iopub.status.idle": "2023-01-28T14:53:38.312015Z",
     "shell.execute_reply": "2023-01-28T14:53:38.310511Z"
    },
    "papermill": {
     "duration": 0.025878,
     "end_time": "2023-01-28T14:53:38.314934",
     "exception": false,
     "start_time": "2023-01-28T14:53:38.289056",
     "status": "completed"
    },
    "tags": []
   },
   "outputs": [
    {
     "data": {
      "text/plain": [
       "data_dte        datetime64[ns]\n",
       "Year                     int64\n",
       "Month                    int64\n",
       "usg_apt_id               int64\n",
       "usg_apt                 object\n",
       "usg_wac                  int64\n",
       "fg_apt_id                int64\n",
       "fg_apt                  object\n",
       "fg_wac                   int64\n",
       "airlineid                int64\n",
       "carrier                 object\n",
       "carriergroup             int64\n",
       "type                    object\n",
       "Scheduled                int64\n",
       "Charter                  int64\n",
       "Total                    int64\n",
       "dtype: object"
      ]
     },
     "execution_count": 5,
     "metadata": {},
     "output_type": "execute_result"
    }
   ],
   "source": [
    "df.dtypes"
   ]
  },
  {
   "cell_type": "markdown",
   "id": "0f76035d",
   "metadata": {
    "papermill": {
     "duration": 0.010096,
     "end_time": "2023-01-28T14:53:38.335004",
     "exception": false,
     "start_time": "2023-01-28T14:53:38.324908",
     "status": "completed"
    },
    "tags": []
   },
   "source": [
    "### Identificación de valores faltantes"
   ]
  },
  {
   "cell_type": "code",
   "execution_count": 6,
   "id": "56f9b9c4",
   "metadata": {
    "execution": {
     "iopub.execute_input": "2023-01-28T14:53:38.356941Z",
     "iopub.status.busy": "2023-01-28T14:53:38.356513Z",
     "iopub.status.idle": "2023-01-28T14:53:38.825103Z",
     "shell.execute_reply": "2023-01-28T14:53:38.823248Z"
    },
    "papermill": {
     "duration": 0.483915,
     "end_time": "2023-01-28T14:53:38.828917",
     "exception": false,
     "start_time": "2023-01-28T14:53:38.345002",
     "status": "completed"
    },
    "tags": []
   },
   "outputs": [
    {
     "name": "stdout",
     "output_type": "stream",
     "text": [
      "data_dte           0\n",
      "Year               0\n",
      "Month              0\n",
      "usg_apt_id         0\n",
      "usg_apt            0\n",
      "usg_wac            0\n",
      "fg_apt_id          0\n",
      "fg_apt             0\n",
      "fg_wac             0\n",
      "airlineid          0\n",
      "carrier         2797\n",
      "carriergroup       0\n",
      "type               0\n",
      "Scheduled          0\n",
      "Charter            0\n",
      "Total              0\n",
      "dtype: int64\n"
     ]
    }
   ],
   "source": [
    "#Pasamos caracteres raros a nan para poder identificarlos\n",
    "df[df == '?'] = np.nan\n",
    "\n",
    "#Hacemos conteo de los valores nulos\n",
    "print(df.isnull().sum())"
   ]
  },
  {
   "cell_type": "markdown",
   "id": "de0c58e6",
   "metadata": {
    "papermill": {
     "duration": 0.009856,
     "end_time": "2023-01-28T14:53:38.849936",
     "exception": false,
     "start_time": "2023-01-28T14:53:38.840080",
     "status": "completed"
    },
    "tags": []
   },
   "source": [
    "### Tratamiento de valores faltantes"
   ]
  },
  {
   "cell_type": "code",
   "execution_count": 7,
   "id": "a54f3da4",
   "metadata": {
    "execution": {
     "iopub.execute_input": "2023-01-28T14:53:38.872151Z",
     "iopub.status.busy": "2023-01-28T14:53:38.871593Z",
     "iopub.status.idle": "2023-01-28T14:53:39.489092Z",
     "shell.execute_reply": "2023-01-28T14:53:39.487147Z"
    },
    "papermill": {
     "duration": 0.631896,
     "end_time": "2023-01-28T14:53:39.491848",
     "exception": false,
     "start_time": "2023-01-28T14:53:38.859952",
     "status": "completed"
    },
    "tags": []
   },
   "outputs": [
    {
     "name": "stderr",
     "output_type": "stream",
     "text": [
      "/opt/conda/lib/python3.7/site-packages/ipykernel_launcher.py:3: SettingWithCopyWarning: \n",
      "A value is trying to be set on a copy of a slice from a DataFrame.\n",
      "Try using .loc[row_indexer,col_indexer] = value instead\n",
      "\n",
      "See the caveats in the documentation: https://pandas.pydata.org/pandas-docs/stable/user_guide/indexing.html#returning-a-view-versus-a-copy\n",
      "  This is separate from the ipykernel package so we can avoid doing imports until\n",
      "/opt/conda/lib/python3.7/site-packages/pandas/core/frame.py:3718: SettingWithCopyWarning: \n",
      "A value is trying to be set on a copy of a slice from a DataFrame\n",
      "\n",
      "See the caveats in the documentation: https://pandas.pydata.org/pandas-docs/stable/user_guide/indexing.html#returning-a-view-versus-a-copy\n",
      "  self._where(-key, value, inplace=True)\n"
     ]
    },
    {
     "name": "stdout",
     "output_type": "stream",
     "text": [
      "data_dte        0\n",
      "Year            0\n",
      "Month           0\n",
      "usg_apt_id      0\n",
      "usg_apt         0\n",
      "usg_wac         0\n",
      "fg_apt_id       0\n",
      "fg_apt          0\n",
      "fg_wac          0\n",
      "airlineid       0\n",
      "carriergroup    0\n",
      "type            0\n",
      "Scheduled       0\n",
      "Charter         0\n",
      "Total           0\n",
      "dtype: int64\n"
     ]
    }
   ],
   "source": [
    "df=df.dropna(axis = 1)\n",
    "#Pasamos caracteres raros a nan para poder identificarlos\n",
    "df[df == '?'] = np.nan\n",
    "\n",
    "#Hacemos conteo de los valores nulos\n",
    "print(df.isnull().sum())"
   ]
  },
  {
   "cell_type": "markdown",
   "id": "0f8f36ed",
   "metadata": {
    "papermill": {
     "duration": 0.009983,
     "end_time": "2023-01-28T14:53:39.512096",
     "exception": false,
     "start_time": "2023-01-28T14:53:39.502113",
     "status": "completed"
    },
    "tags": []
   },
   "source": [
    "### Analizamos caracteristicas"
   ]
  },
  {
   "cell_type": "code",
   "execution_count": 8,
   "id": "cb19d4a4",
   "metadata": {
    "execution": {
     "iopub.execute_input": "2023-01-28T14:53:39.536691Z",
     "iopub.status.busy": "2023-01-28T14:53:39.535124Z",
     "iopub.status.idle": "2023-01-28T14:53:40.013046Z",
     "shell.execute_reply": "2023-01-28T14:53:40.010621Z"
    },
    "papermill": {
     "duration": 0.494056,
     "end_time": "2023-01-28T14:53:40.016404",
     "exception": false,
     "start_time": "2023-01-28T14:53:39.522348",
     "status": "completed"
    },
    "tags": []
   },
   "outputs": [
    {
     "name": "stderr",
     "output_type": "stream",
     "text": [
      "/opt/conda/lib/python3.7/site-packages/ipykernel_launcher.py:2: FutureWarning: Dropping of nuisance columns in DataFrame reductions (with 'numeric_only=None') is deprecated; in a future version this will raise TypeError.  Select only valid columns before calling the reduction.\n",
      "  \n"
     ]
    },
    {
     "data": {
      "text/plain": [
       "Year            -0.192840\n",
       "Month            0.058169\n",
       "usg_apt_id      25.097443\n",
       "usg_wac          0.489536\n",
       "fg_apt_id        0.005399\n",
       "fg_wac           0.465334\n",
       "airlineid        1.446007\n",
       "carriergroup    -0.250882\n",
       "Scheduled        2.738361\n",
       "Charter         11.635794\n",
       "dtype: float64"
      ]
     },
     "execution_count": 8,
     "metadata": {},
     "output_type": "execute_result"
    }
   ],
   "source": [
    "input_data=df[df.columns[:-1]]\n",
    "input_data.skew() "
   ]
  },
  {
   "cell_type": "code",
   "execution_count": 9,
   "id": "32859aad",
   "metadata": {
    "execution": {
     "iopub.execute_input": "2023-01-28T14:53:40.043416Z",
     "iopub.status.busy": "2023-01-28T14:53:40.042073Z",
     "iopub.status.idle": "2023-01-28T14:53:40.049279Z",
     "shell.execute_reply": "2023-01-28T14:53:40.047503Z"
    },
    "papermill": {
     "duration": 0.023277,
     "end_time": "2023-01-28T14:53:40.052102",
     "exception": false,
     "start_time": "2023-01-28T14:53:40.028825",
     "status": "completed"
    },
    "tags": []
   },
   "outputs": [],
   "source": [
    "#input_data.plot(kind=\"density\",subplots=True,layout=(4,4),sharex=False,sharey=False)"
   ]
  },
  {
   "cell_type": "markdown",
   "id": "3c54f2fe",
   "metadata": {
    "papermill": {
     "duration": 0.010885,
     "end_time": "2023-01-28T14:53:40.073699",
     "exception": false,
     "start_time": "2023-01-28T14:53:40.062814",
     "status": "completed"
    },
    "tags": []
   },
   "source": [
    "<h1>Jose, pongo aquí lo que he hecho para deputar el dataset.</h1>"
   ]
  },
  {
   "cell_type": "code",
   "execution_count": 10,
   "id": "3667fd0f",
   "metadata": {
    "execution": {
     "iopub.execute_input": "2023-01-28T14:53:40.098400Z",
     "iopub.status.busy": "2023-01-28T14:53:40.097318Z",
     "iopub.status.idle": "2023-01-28T14:53:41.044259Z",
     "shell.execute_reply": "2023-01-28T14:53:41.042518Z"
    },
    "papermill": {
     "duration": 0.96324,
     "end_time": "2023-01-28T14:53:41.047457",
     "exception": false,
     "start_time": "2023-01-28T14:53:40.084217",
     "status": "completed"
    },
    "tags": []
   },
   "outputs": [],
   "source": [
    "import requests\n",
    "from bs4 import BeautifulSoup as bs\n",
    "\n",
    "# Cargo el diccionario de paises\n",
    "\n",
    "url = 'https://github.com/stefangabos/world_countries/blob/master/data/countries/cs/countries.csv'\n",
    "content = requests.get(url).content\n",
    "soup = bs(content, \"html.parser\")\n",
    "datos = soup.find_all('tr', attrs={'class': 'js-file-line'})\n",
    "\n",
    "paises_alfa = {}\n",
    "\n",
    "for row in datos:\n",
    "    cell = [i.text for i in row.find_all('td')]\n",
    "    if len(cell) > 1:\n",
    "        paises_alfa[cell[3].upper()] = cell[4]\n",
    "#paises_alfa"
   ]
  },
  {
   "cell_type": "code",
   "execution_count": 11,
   "id": "4f889e0c",
   "metadata": {
    "execution": {
     "iopub.execute_input": "2023-01-28T14:53:41.072755Z",
     "iopub.status.busy": "2023-01-28T14:53:41.071819Z",
     "iopub.status.idle": "2023-01-28T14:53:41.829807Z",
     "shell.execute_reply": "2023-01-28T14:53:41.828262Z"
    },
    "papermill": {
     "duration": 0.774559,
     "end_time": "2023-01-28T14:53:41.832859",
     "exception": false,
     "start_time": "2023-01-28T14:53:41.058300",
     "status": "completed"
    },
    "tags": []
   },
   "outputs": [],
   "source": [
    "# Diccionario de países por código numérico\n",
    "\n",
    "url = 'https://github.com/tasneem/greenhouse-emitters/blob/master/data/lookup-tables/L_WORLD_AREA_CODES.csv'\n",
    "content = requests.get(url).content\n",
    "soup = bs(content, \"html.parser\")\n",
    "datos = soup.find_all('tr', attrs={'class': 'js-file-line'})\n",
    "\n",
    "paises_num = {}\n",
    "\n",
    "for row in datos:\n",
    "    cell = [i.text for i in row.find_all('td')]\n",
    "    if len(cell) > 1:\n",
    "        paises_num[cell[1].upper()] = cell[2]\n",
    "        \n",
    "#paises_num"
   ]
  },
  {
   "cell_type": "code",
   "execution_count": 12,
   "id": "1cca682a",
   "metadata": {
    "execution": {
     "iopub.execute_input": "2023-01-28T14:53:41.856855Z",
     "iopub.status.busy": "2023-01-28T14:53:41.856410Z",
     "iopub.status.idle": "2023-01-28T14:53:45.110875Z",
     "shell.execute_reply": "2023-01-28T14:53:45.109370Z"
    },
    "papermill": {
     "duration": 3.270233,
     "end_time": "2023-01-28T14:53:45.114171",
     "exception": false,
     "start_time": "2023-01-28T14:53:41.843938",
     "status": "completed"
    },
    "tags": []
   },
   "outputs": [],
   "source": [
    "# Diccionario de aeropuertos. Columna fg_apt_id\n",
    "\n",
    "url = 'https://github.com/tasneem/greenhouse-emitters/blob/master/data/lookup-tables/L_AIRPORT_ID.csv'\n",
    "content = requests.get(url).content\n",
    "soup = bs(content, \"html.parser\")\n",
    "datos = soup.find_all('tr', attrs={'class': 'js-file-line'})\n",
    "\n",
    "aeropuertos = {}\n",
    "\n",
    "for row in datos:\n",
    "    cell = [i.text for i in row.find_all('td')]\n",
    "    if len(cell) > 1:\n",
    "        aeropuertos[int(cell[1])] = cell[2]\n",
    "        \n",
    "#aeropuertos"
   ]
  },
  {
   "cell_type": "code",
   "execution_count": 13,
   "id": "f005082f",
   "metadata": {
    "execution": {
     "iopub.execute_input": "2023-01-28T14:53:45.142730Z",
     "iopub.status.busy": "2023-01-28T14:53:45.142217Z",
     "iopub.status.idle": "2023-01-28T14:53:46.539889Z",
     "shell.execute_reply": "2023-01-28T14:53:46.538533Z"
    },
    "papermill": {
     "duration": 1.415869,
     "end_time": "2023-01-28T14:53:46.543314",
     "exception": false,
     "start_time": "2023-01-28T14:53:45.127445",
     "status": "completed"
    },
    "tags": []
   },
   "outputs": [],
   "source": [
    "# Diccionario de compañías aéreas. Código alfanumérico 3 dig. Columna carrier\n",
    "\n",
    "url = 'https://github.com/tasneem/greenhouse-emitters/blob/master/data/lookup-tables/L_UNIQUE_CARRIERS.csv'\n",
    "content = requests.get(url).content\n",
    "soup = bs(content, \"html.parser\")\n",
    "datos = soup.find_all('tr', attrs={'class': 'js-file-line'})\n",
    "\n",
    "dic_carrier = {}\n",
    "\n",
    "for row in datos:\n",
    "    cell = [i.text for i in row.find_all('td')]\n",
    "    if len(cell) > 1:\n",
    "        dic_carrier[cell[1].upper()] = cell[2]\n",
    "        \n",
    "#dic_carrier"
   ]
  },
  {
   "cell_type": "code",
   "execution_count": 14,
   "id": "e73ff4ce",
   "metadata": {
    "execution": {
     "iopub.execute_input": "2023-01-28T14:53:46.568606Z",
     "iopub.status.busy": "2023-01-28T14:53:46.568141Z",
     "iopub.status.idle": "2023-01-28T14:53:46.589463Z",
     "shell.execute_reply": "2023-01-28T14:53:46.588384Z"
    },
    "papermill": {
     "duration": 0.037522,
     "end_time": "2023-01-28T14:53:46.592477",
     "exception": false,
     "start_time": "2023-01-28T14:53:46.554955",
     "status": "completed"
    },
    "tags": []
   },
   "outputs": [],
   "source": [
    "# Diccionario de compañía aérea. Código numérico de 5 dig. Columna airlineid\n",
    "\n",
    "import csv\n",
    "\n",
    "with open(\"/kaggle/input/airline-codes-mapping/L_AIRLINE_ID.csv\") as file:\n",
    "    reader = csv.reader(file)\n",
    "    next(reader) # Descartamos cabecera\n",
    "    dic_airlineid = dict(reader)\n",
    "#dic_airlineid"
   ]
  },
  {
   "cell_type": "code",
   "execution_count": 15,
   "id": "580faef7",
   "metadata": {
    "execution": {
     "iopub.execute_input": "2023-01-28T14:53:46.616403Z",
     "iopub.status.busy": "2023-01-28T14:53:46.615974Z",
     "iopub.status.idle": "2023-01-28T14:53:47.801241Z",
     "shell.execute_reply": "2023-01-28T14:53:47.799975Z"
    },
    "papermill": {
     "duration": 1.200483,
     "end_time": "2023-01-28T14:53:47.803998",
     "exception": false,
     "start_time": "2023-01-28T14:53:46.603515",
     "status": "completed"
    },
    "tags": []
   },
   "outputs": [
    {
     "data": {
      "text/html": [
       "<div>\n",
       "<style scoped>\n",
       "    .dataframe tbody tr th:only-of-type {\n",
       "        vertical-align: middle;\n",
       "    }\n",
       "\n",
       "    .dataframe tbody tr th {\n",
       "        vertical-align: top;\n",
       "    }\n",
       "\n",
       "    .dataframe thead th {\n",
       "        text-align: right;\n",
       "    }\n",
       "</style>\n",
       "<table border=\"1\" class=\"dataframe\">\n",
       "  <thead>\n",
       "    <tr style=\"text-align: right;\">\n",
       "      <th></th>\n",
       "      <th>data_dte</th>\n",
       "      <th>Year</th>\n",
       "      <th>Month</th>\n",
       "      <th>fg_apt_id</th>\n",
       "      <th>fg_wac</th>\n",
       "      <th>airlineid</th>\n",
       "      <th>carrier</th>\n",
       "      <th>Total</th>\n",
       "    </tr>\n",
       "  </thead>\n",
       "  <tbody>\n",
       "    <tr>\n",
       "      <th>0</th>\n",
       "      <td>05/01/2014</td>\n",
       "      <td>2014</td>\n",
       "      <td>5</td>\n",
       "      <td>11032</td>\n",
       "      <td>148</td>\n",
       "      <td>19534</td>\n",
       "      <td>AM</td>\n",
       "      <td>315</td>\n",
       "    </tr>\n",
       "    <tr>\n",
       "      <th>1</th>\n",
       "      <td>06/01/2007</td>\n",
       "      <td>2007</td>\n",
       "      <td>6</td>\n",
       "      <td>16085</td>\n",
       "      <td>951</td>\n",
       "      <td>20364</td>\n",
       "      <td>C6</td>\n",
       "      <td>683</td>\n",
       "    </tr>\n",
       "    <tr>\n",
       "      <th>2</th>\n",
       "      <td>12/01/2005</td>\n",
       "      <td>2005</td>\n",
       "      <td>12</td>\n",
       "      <td>10411</td>\n",
       "      <td>277</td>\n",
       "      <td>20344</td>\n",
       "      <td>RD</td>\n",
       "      <td>1010</td>\n",
       "    </tr>\n",
       "    <tr>\n",
       "      <th>3</th>\n",
       "      <td>04/01/2003</td>\n",
       "      <td>2003</td>\n",
       "      <td>4</td>\n",
       "      <td>16304</td>\n",
       "      <td>148</td>\n",
       "      <td>20204</td>\n",
       "      <td>MG</td>\n",
       "      <td>508</td>\n",
       "    </tr>\n",
       "    <tr>\n",
       "      <th>4</th>\n",
       "      <td>12/01/2005</td>\n",
       "      <td>2005</td>\n",
       "      <td>12</td>\n",
       "      <td>11138</td>\n",
       "      <td>766</td>\n",
       "      <td>20312</td>\n",
       "      <td>TZ</td>\n",
       "      <td>76</td>\n",
       "    </tr>\n",
       "  </tbody>\n",
       "</table>\n",
       "</div>"
      ],
      "text/plain": [
       "     data_dte  Year  Month  fg_apt_id  fg_wac  airlineid carrier  Total\n",
       "0  05/01/2014  2014      5      11032     148      19534      AM    315\n",
       "1  06/01/2007  2007      6      16085     951      20364      C6    683\n",
       "2  12/01/2005  2005     12      10411     277      20344      RD   1010\n",
       "3  04/01/2003  2003      4      16304     148      20204      MG    508\n",
       "4  12/01/2005  2005     12      11138     766      20312      TZ     76"
      ]
     },
     "execution_count": 15,
     "metadata": {},
     "output_type": "execute_result"
    }
   ],
   "source": [
    "datos = pd.read_csv('../input/us-international-air-traffic-data/International_Report_Passengers.csv')\n",
    "# Eliminamos las columnas usg_apt y fg_apt puesto que contienen el mismo dato que las columnas usg_apt_id y fg_apt_id respectivamente\n",
    "# Eliminamos las columnas que nos indican de donde parten los viajeros. Lo que nos importa es el destino.\n",
    "# Eliminamos la columna que nos indica el número de pasageros en vuelos charter. Nos interesa el número total.\n",
    "\n",
    "datos.drop(['type','Scheduled','usg_apt','usg_apt_id','usg_wac','fg_apt','carriergroup','Charter'], axis=1, inplace=True)\n",
    "datos.head()"
   ]
  },
  {
   "cell_type": "code",
   "execution_count": 16,
   "id": "352c6539",
   "metadata": {
    "execution": {
     "iopub.execute_input": "2023-01-28T14:53:47.829508Z",
     "iopub.status.busy": "2023-01-28T14:53:47.828690Z",
     "iopub.status.idle": "2023-01-28T14:53:48.015418Z",
     "shell.execute_reply": "2023-01-28T14:53:48.014195Z"
    },
    "papermill": {
     "duration": 0.203547,
     "end_time": "2023-01-28T14:53:48.018614",
     "exception": false,
     "start_time": "2023-01-28T14:53:47.815067",
     "status": "completed"
    },
    "tags": []
   },
   "outputs": [
    {
     "data": {
      "text/html": [
       "<div>\n",
       "<style scoped>\n",
       "    .dataframe tbody tr th:only-of-type {\n",
       "        vertical-align: middle;\n",
       "    }\n",
       "\n",
       "    .dataframe tbody tr th {\n",
       "        vertical-align: top;\n",
       "    }\n",
       "\n",
       "    .dataframe thead th {\n",
       "        text-align: right;\n",
       "    }\n",
       "</style>\n",
       "<table border=\"1\" class=\"dataframe\">\n",
       "  <thead>\n",
       "    <tr style=\"text-align: right;\">\n",
       "      <th></th>\n",
       "      <th>Year</th>\n",
       "      <th>Month</th>\n",
       "      <th>fg_apt_id</th>\n",
       "      <th>Total</th>\n",
       "      <th>aeropuerto</th>\n",
       "    </tr>\n",
       "  </thead>\n",
       "  <tbody>\n",
       "    <tr>\n",
       "      <th>0</th>\n",
       "      <td>1990</td>\n",
       "      <td>1</td>\n",
       "      <td>10148</td>\n",
       "      <td>58212</td>\n",
       "      <td>Acapulco, Mexico: General Juan N Alvarez Inter...</td>\n",
       "    </tr>\n",
       "    <tr>\n",
       "      <th>1</th>\n",
       "      <td>1990</td>\n",
       "      <td>1</td>\n",
       "      <td>10174</td>\n",
       "      <td>1309</td>\n",
       "      <td>San Andres Island, Colombia: Gustavo Rojas Pin...</td>\n",
       "    </tr>\n",
       "    <tr>\n",
       "      <th>2</th>\n",
       "      <td>1990</td>\n",
       "      <td>1</td>\n",
       "      <td>10205</td>\n",
       "      <td>2543</td>\n",
       "      <td>Malaga, Spain: Malaga Costa del Sol</td>\n",
       "    </tr>\n",
       "    <tr>\n",
       "      <th>3</th>\n",
       "      <td>1990</td>\n",
       "      <td>1</td>\n",
       "      <td>10244</td>\n",
       "      <td>64280</td>\n",
       "      <td>Auckland, New Zealand: Auckland International</td>\n",
       "    </tr>\n",
       "    <tr>\n",
       "      <th>4</th>\n",
       "      <td>1990</td>\n",
       "      <td>1</td>\n",
       "      <td>10287</td>\n",
       "      <td>967</td>\n",
       "      <td>Amman, Jordan: Queen Alia International</td>\n",
       "    </tr>\n",
       "    <tr>\n",
       "      <th>...</th>\n",
       "      <td>...</td>\n",
       "      <td>...</td>\n",
       "      <td>...</td>\n",
       "      <td>...</td>\n",
       "      <td>...</td>\n",
       "    </tr>\n",
       "    <tr>\n",
       "      <th>94334</th>\n",
       "      <td>2020</td>\n",
       "      <td>3</td>\n",
       "      <td>16825</td>\n",
       "      <td>36</td>\n",
       "      <td>None</td>\n",
       "    </tr>\n",
       "    <tr>\n",
       "      <th>94335</th>\n",
       "      <td>2020</td>\n",
       "      <td>3</td>\n",
       "      <td>16835</td>\n",
       "      <td>1</td>\n",
       "      <td>None</td>\n",
       "    </tr>\n",
       "    <tr>\n",
       "      <th>94336</th>\n",
       "      <td>2020</td>\n",
       "      <td>3</td>\n",
       "      <td>16845</td>\n",
       "      <td>28</td>\n",
       "      <td>None</td>\n",
       "    </tr>\n",
       "    <tr>\n",
       "      <th>94337</th>\n",
       "      <td>2020</td>\n",
       "      <td>3</td>\n",
       "      <td>16858</td>\n",
       "      <td>96583</td>\n",
       "      <td>None</td>\n",
       "    </tr>\n",
       "    <tr>\n",
       "      <th>94338</th>\n",
       "      <td>2020</td>\n",
       "      <td>3</td>\n",
       "      <td>16881</td>\n",
       "      <td>5</td>\n",
       "      <td>None</td>\n",
       "    </tr>\n",
       "  </tbody>\n",
       "</table>\n",
       "<p>94339 rows × 5 columns</p>\n",
       "</div>"
      ],
      "text/plain": [
       "       Year  Month  fg_apt_id  Total  \\\n",
       "0      1990      1      10148  58212   \n",
       "1      1990      1      10174   1309   \n",
       "2      1990      1      10205   2543   \n",
       "3      1990      1      10244  64280   \n",
       "4      1990      1      10287    967   \n",
       "...     ...    ...        ...    ...   \n",
       "94334  2020      3      16825     36   \n",
       "94335  2020      3      16835      1   \n",
       "94336  2020      3      16845     28   \n",
       "94337  2020      3      16858  96583   \n",
       "94338  2020      3      16881      5   \n",
       "\n",
       "                                              aeropuerto  \n",
       "0      Acapulco, Mexico: General Juan N Alvarez Inter...  \n",
       "1      San Andres Island, Colombia: Gustavo Rojas Pin...  \n",
       "2                    Malaga, Spain: Malaga Costa del Sol  \n",
       "3          Auckland, New Zealand: Auckland International  \n",
       "4                Amman, Jordan: Queen Alia International  \n",
       "...                                                  ...  \n",
       "94334                                               None  \n",
       "94335                                               None  \n",
       "94336                                               None  \n",
       "94337                                               None  \n",
       "94338                                               None  \n",
       "\n",
       "[94339 rows x 5 columns]"
      ]
     },
     "execution_count": 16,
     "metadata": {},
     "output_type": "execute_result"
    }
   ],
   "source": [
    "# Agrupo y sumo los datos por año, mes y destino\n",
    "\n",
    "datos_agrupados = datos.groupby(['Year','Month','fg_apt_id']).agg(\n",
    "                                  {'Total': 'sum',\n",
    "                                  }).reset_index()\n",
    "\n",
    "nom_aeropuertos = [aeropuertos.get(x) for x in datos_agrupados['fg_apt_id']]\n",
    "datos_agrupados['aeropuerto'] = nom_aeropuertos\n",
    "\n",
    "datos_agrupados"
   ]
  },
  {
   "cell_type": "markdown",
   "id": "0caf11e3",
   "metadata": {
    "papermill": {
     "duration": 0.011236,
     "end_time": "2023-01-28T14:53:48.041520",
     "exception": false,
     "start_time": "2023-01-28T14:53:48.030284",
     "status": "completed"
    },
    "tags": []
   },
   "source": [
    "<h1>Hasta aquí lo de Pablo</h1>"
   ]
  },
  {
   "cell_type": "markdown",
   "id": "e65518a2",
   "metadata": {
    "papermill": {
     "duration": 0.011194,
     "end_time": "2023-01-28T14:53:48.064115",
     "exception": false,
     "start_time": "2023-01-28T14:53:48.052921",
     "status": "completed"
    },
    "tags": []
   },
   "source": [
    "### Eliminamos columnas que no son relevantes"
   ]
  },
  {
   "cell_type": "code",
   "execution_count": 17,
   "id": "3725d177",
   "metadata": {
    "execution": {
     "iopub.execute_input": "2023-01-28T14:53:48.090515Z",
     "iopub.status.busy": "2023-01-28T14:53:48.089166Z",
     "iopub.status.idle": "2023-01-28T14:53:48.109989Z",
     "shell.execute_reply": "2023-01-28T14:53:48.108804Z"
    },
    "papermill": {
     "duration": 0.03729,
     "end_time": "2023-01-28T14:53:48.112948",
     "exception": false,
     "start_time": "2023-01-28T14:53:48.075658",
     "status": "completed"
    },
    "tags": []
   },
   "outputs": [],
   "source": [
    "df = pd.DataFrame(df, columns = ['data_dte','fg_wac', 'Total'])\n",
    "#datasetob1=df"
   ]
  },
  {
   "cell_type": "markdown",
   "id": "cc2aca48",
   "metadata": {
    "papermill": {
     "duration": 0.011115,
     "end_time": "2023-01-28T14:53:48.135687",
     "exception": false,
     "start_time": "2023-01-28T14:53:48.124572",
     "status": "completed"
    },
    "tags": []
   },
   "source": [
    "## División por pais"
   ]
  },
  {
   "cell_type": "markdown",
   "id": "70e7a78a",
   "metadata": {
    "papermill": {
     "duration": 0.010987,
     "end_time": "2023-01-28T14:53:48.158256",
     "exception": false,
     "start_time": "2023-01-28T14:53:48.147269",
     "status": "completed"
    },
    "tags": []
   },
   "source": [
    "### Carga de codigos WAC para poder saber qué codigo es cada pais"
   ]
  },
  {
   "cell_type": "code",
   "execution_count": 18,
   "id": "0d05dcfe",
   "metadata": {
    "execution": {
     "iopub.execute_input": "2023-01-28T14:53:48.183883Z",
     "iopub.status.busy": "2023-01-28T14:53:48.183137Z",
     "iopub.status.idle": "2023-01-28T14:53:48.511525Z",
     "shell.execute_reply": "2023-01-28T14:53:48.509129Z"
    },
    "papermill": {
     "duration": 0.344603,
     "end_time": "2023-01-28T14:53:48.514295",
     "exception": true,
     "start_time": "2023-01-28T14:53:48.169692",
     "status": "failed"
    },
    "tags": []
   },
   "outputs": [
    {
     "ename": "FileNotFoundError",
     "evalue": "[Errno 2] No such file or directory: '/kaggle/input/worldareacodes/L_WORLD_AREA_CODES.csv'",
     "output_type": "error",
     "traceback": [
      "\u001b[0;31m---------------------------------------------------------------------------\u001b[0m",
      "\u001b[0;31mFileNotFoundError\u001b[0m                         Traceback (most recent call last)",
      "\u001b[0;32m/tmp/ipykernel_19/733929854.py\u001b[0m in \u001b[0;36m<module>\u001b[0;34m\u001b[0m\n\u001b[0;32m----> 1\u001b[0;31m \u001b[0mdestinos\u001b[0m \u001b[0;34m=\u001b[0m\u001b[0mpd\u001b[0m\u001b[0;34m.\u001b[0m\u001b[0mread_csv\u001b[0m\u001b[0;34m(\u001b[0m\u001b[0;34m\"/kaggle/input/worldareacodes/L_WORLD_AREA_CODES.csv\"\u001b[0m\u001b[0;34m)\u001b[0m\u001b[0;34m\u001b[0m\u001b[0;34m\u001b[0m\u001b[0m\n\u001b[0m\u001b[1;32m      2\u001b[0m \u001b[0mdestinos\u001b[0m\u001b[0;34m\u001b[0m\u001b[0;34m\u001b[0m\u001b[0m\n",
      "\u001b[0;32m/opt/conda/lib/python3.7/site-packages/pandas/util/_decorators.py\u001b[0m in \u001b[0;36mwrapper\u001b[0;34m(*args, **kwargs)\u001b[0m\n\u001b[1;32m    309\u001b[0m                     \u001b[0mstacklevel\u001b[0m\u001b[0;34m=\u001b[0m\u001b[0mstacklevel\u001b[0m\u001b[0;34m,\u001b[0m\u001b[0;34m\u001b[0m\u001b[0;34m\u001b[0m\u001b[0m\n\u001b[1;32m    310\u001b[0m                 )\n\u001b[0;32m--> 311\u001b[0;31m             \u001b[0;32mreturn\u001b[0m \u001b[0mfunc\u001b[0m\u001b[0;34m(\u001b[0m\u001b[0;34m*\u001b[0m\u001b[0margs\u001b[0m\u001b[0;34m,\u001b[0m \u001b[0;34m**\u001b[0m\u001b[0mkwargs\u001b[0m\u001b[0;34m)\u001b[0m\u001b[0;34m\u001b[0m\u001b[0;34m\u001b[0m\u001b[0m\n\u001b[0m\u001b[1;32m    312\u001b[0m \u001b[0;34m\u001b[0m\u001b[0m\n\u001b[1;32m    313\u001b[0m         \u001b[0;32mreturn\u001b[0m \u001b[0mwrapper\u001b[0m\u001b[0;34m\u001b[0m\u001b[0;34m\u001b[0m\u001b[0m\n",
      "\u001b[0;32m/opt/conda/lib/python3.7/site-packages/pandas/io/parsers/readers.py\u001b[0m in \u001b[0;36mread_csv\u001b[0;34m(filepath_or_buffer, sep, delimiter, header, names, index_col, usecols, squeeze, prefix, mangle_dupe_cols, dtype, engine, converters, true_values, false_values, skipinitialspace, skiprows, skipfooter, nrows, na_values, keep_default_na, na_filter, verbose, skip_blank_lines, parse_dates, infer_datetime_format, keep_date_col, date_parser, dayfirst, cache_dates, iterator, chunksize, compression, thousands, decimal, lineterminator, quotechar, quoting, doublequote, escapechar, comment, encoding, encoding_errors, dialect, error_bad_lines, warn_bad_lines, on_bad_lines, delim_whitespace, low_memory, memory_map, float_precision, storage_options)\u001b[0m\n\u001b[1;32m    584\u001b[0m     \u001b[0mkwds\u001b[0m\u001b[0;34m.\u001b[0m\u001b[0mupdate\u001b[0m\u001b[0;34m(\u001b[0m\u001b[0mkwds_defaults\u001b[0m\u001b[0;34m)\u001b[0m\u001b[0;34m\u001b[0m\u001b[0;34m\u001b[0m\u001b[0m\n\u001b[1;32m    585\u001b[0m \u001b[0;34m\u001b[0m\u001b[0m\n\u001b[0;32m--> 586\u001b[0;31m     \u001b[0;32mreturn\u001b[0m \u001b[0m_read\u001b[0m\u001b[0;34m(\u001b[0m\u001b[0mfilepath_or_buffer\u001b[0m\u001b[0;34m,\u001b[0m \u001b[0mkwds\u001b[0m\u001b[0;34m)\u001b[0m\u001b[0;34m\u001b[0m\u001b[0;34m\u001b[0m\u001b[0m\n\u001b[0m\u001b[1;32m    587\u001b[0m \u001b[0;34m\u001b[0m\u001b[0m\n\u001b[1;32m    588\u001b[0m \u001b[0;34m\u001b[0m\u001b[0m\n",
      "\u001b[0;32m/opt/conda/lib/python3.7/site-packages/pandas/io/parsers/readers.py\u001b[0m in \u001b[0;36m_read\u001b[0;34m(filepath_or_buffer, kwds)\u001b[0m\n\u001b[1;32m    480\u001b[0m \u001b[0;34m\u001b[0m\u001b[0m\n\u001b[1;32m    481\u001b[0m     \u001b[0;31m# Create the parser.\u001b[0m\u001b[0;34m\u001b[0m\u001b[0;34m\u001b[0m\u001b[0;34m\u001b[0m\u001b[0m\n\u001b[0;32m--> 482\u001b[0;31m     \u001b[0mparser\u001b[0m \u001b[0;34m=\u001b[0m \u001b[0mTextFileReader\u001b[0m\u001b[0;34m(\u001b[0m\u001b[0mfilepath_or_buffer\u001b[0m\u001b[0;34m,\u001b[0m \u001b[0;34m**\u001b[0m\u001b[0mkwds\u001b[0m\u001b[0;34m)\u001b[0m\u001b[0;34m\u001b[0m\u001b[0;34m\u001b[0m\u001b[0m\n\u001b[0m\u001b[1;32m    483\u001b[0m \u001b[0;34m\u001b[0m\u001b[0m\n\u001b[1;32m    484\u001b[0m     \u001b[0;32mif\u001b[0m \u001b[0mchunksize\u001b[0m \u001b[0;32mor\u001b[0m \u001b[0miterator\u001b[0m\u001b[0;34m:\u001b[0m\u001b[0;34m\u001b[0m\u001b[0;34m\u001b[0m\u001b[0m\n",
      "\u001b[0;32m/opt/conda/lib/python3.7/site-packages/pandas/io/parsers/readers.py\u001b[0m in \u001b[0;36m__init__\u001b[0;34m(self, f, engine, **kwds)\u001b[0m\n\u001b[1;32m    809\u001b[0m             \u001b[0mself\u001b[0m\u001b[0;34m.\u001b[0m\u001b[0moptions\u001b[0m\u001b[0;34m[\u001b[0m\u001b[0;34m\"has_index_names\"\u001b[0m\u001b[0;34m]\u001b[0m \u001b[0;34m=\u001b[0m \u001b[0mkwds\u001b[0m\u001b[0;34m[\u001b[0m\u001b[0;34m\"has_index_names\"\u001b[0m\u001b[0;34m]\u001b[0m\u001b[0;34m\u001b[0m\u001b[0;34m\u001b[0m\u001b[0m\n\u001b[1;32m    810\u001b[0m \u001b[0;34m\u001b[0m\u001b[0m\n\u001b[0;32m--> 811\u001b[0;31m         \u001b[0mself\u001b[0m\u001b[0;34m.\u001b[0m\u001b[0m_engine\u001b[0m \u001b[0;34m=\u001b[0m \u001b[0mself\u001b[0m\u001b[0;34m.\u001b[0m\u001b[0m_make_engine\u001b[0m\u001b[0;34m(\u001b[0m\u001b[0mself\u001b[0m\u001b[0;34m.\u001b[0m\u001b[0mengine\u001b[0m\u001b[0;34m)\u001b[0m\u001b[0;34m\u001b[0m\u001b[0;34m\u001b[0m\u001b[0m\n\u001b[0m\u001b[1;32m    812\u001b[0m \u001b[0;34m\u001b[0m\u001b[0m\n\u001b[1;32m    813\u001b[0m     \u001b[0;32mdef\u001b[0m \u001b[0mclose\u001b[0m\u001b[0;34m(\u001b[0m\u001b[0mself\u001b[0m\u001b[0;34m)\u001b[0m\u001b[0;34m:\u001b[0m\u001b[0;34m\u001b[0m\u001b[0;34m\u001b[0m\u001b[0m\n",
      "\u001b[0;32m/opt/conda/lib/python3.7/site-packages/pandas/io/parsers/readers.py\u001b[0m in \u001b[0;36m_make_engine\u001b[0;34m(self, engine)\u001b[0m\n\u001b[1;32m   1038\u001b[0m             )\n\u001b[1;32m   1039\u001b[0m         \u001b[0;31m# error: Too many arguments for \"ParserBase\"\u001b[0m\u001b[0;34m\u001b[0m\u001b[0;34m\u001b[0m\u001b[0;34m\u001b[0m\u001b[0m\n\u001b[0;32m-> 1040\u001b[0;31m         \u001b[0;32mreturn\u001b[0m \u001b[0mmapping\u001b[0m\u001b[0;34m[\u001b[0m\u001b[0mengine\u001b[0m\u001b[0;34m]\u001b[0m\u001b[0;34m(\u001b[0m\u001b[0mself\u001b[0m\u001b[0;34m.\u001b[0m\u001b[0mf\u001b[0m\u001b[0;34m,\u001b[0m \u001b[0;34m**\u001b[0m\u001b[0mself\u001b[0m\u001b[0;34m.\u001b[0m\u001b[0moptions\u001b[0m\u001b[0;34m)\u001b[0m  \u001b[0;31m# type: ignore[call-arg]\u001b[0m\u001b[0;34m\u001b[0m\u001b[0;34m\u001b[0m\u001b[0m\n\u001b[0m\u001b[1;32m   1041\u001b[0m \u001b[0;34m\u001b[0m\u001b[0m\n\u001b[1;32m   1042\u001b[0m     \u001b[0;32mdef\u001b[0m \u001b[0m_failover_to_python\u001b[0m\u001b[0;34m(\u001b[0m\u001b[0mself\u001b[0m\u001b[0;34m)\u001b[0m\u001b[0;34m:\u001b[0m\u001b[0;34m\u001b[0m\u001b[0;34m\u001b[0m\u001b[0m\n",
      "\u001b[0;32m/opt/conda/lib/python3.7/site-packages/pandas/io/parsers/c_parser_wrapper.py\u001b[0m in \u001b[0;36m__init__\u001b[0;34m(self, src, **kwds)\u001b[0m\n\u001b[1;32m     49\u001b[0m \u001b[0;34m\u001b[0m\u001b[0m\n\u001b[1;32m     50\u001b[0m         \u001b[0;31m# open handles\u001b[0m\u001b[0;34m\u001b[0m\u001b[0;34m\u001b[0m\u001b[0;34m\u001b[0m\u001b[0m\n\u001b[0;32m---> 51\u001b[0;31m         \u001b[0mself\u001b[0m\u001b[0;34m.\u001b[0m\u001b[0m_open_handles\u001b[0m\u001b[0;34m(\u001b[0m\u001b[0msrc\u001b[0m\u001b[0;34m,\u001b[0m \u001b[0mkwds\u001b[0m\u001b[0;34m)\u001b[0m\u001b[0;34m\u001b[0m\u001b[0;34m\u001b[0m\u001b[0m\n\u001b[0m\u001b[1;32m     52\u001b[0m         \u001b[0;32massert\u001b[0m \u001b[0mself\u001b[0m\u001b[0;34m.\u001b[0m\u001b[0mhandles\u001b[0m \u001b[0;32mis\u001b[0m \u001b[0;32mnot\u001b[0m \u001b[0;32mNone\u001b[0m\u001b[0;34m\u001b[0m\u001b[0;34m\u001b[0m\u001b[0m\n\u001b[1;32m     53\u001b[0m \u001b[0;34m\u001b[0m\u001b[0m\n",
      "\u001b[0;32m/opt/conda/lib/python3.7/site-packages/pandas/io/parsers/base_parser.py\u001b[0m in \u001b[0;36m_open_handles\u001b[0;34m(self, src, kwds)\u001b[0m\n\u001b[1;32m    227\u001b[0m             \u001b[0mmemory_map\u001b[0m\u001b[0;34m=\u001b[0m\u001b[0mkwds\u001b[0m\u001b[0;34m.\u001b[0m\u001b[0mget\u001b[0m\u001b[0;34m(\u001b[0m\u001b[0;34m\"memory_map\"\u001b[0m\u001b[0;34m,\u001b[0m \u001b[0;32mFalse\u001b[0m\u001b[0;34m)\u001b[0m\u001b[0;34m,\u001b[0m\u001b[0;34m\u001b[0m\u001b[0;34m\u001b[0m\u001b[0m\n\u001b[1;32m    228\u001b[0m             \u001b[0mstorage_options\u001b[0m\u001b[0;34m=\u001b[0m\u001b[0mkwds\u001b[0m\u001b[0;34m.\u001b[0m\u001b[0mget\u001b[0m\u001b[0;34m(\u001b[0m\u001b[0;34m\"storage_options\"\u001b[0m\u001b[0;34m,\u001b[0m \u001b[0;32mNone\u001b[0m\u001b[0;34m)\u001b[0m\u001b[0;34m,\u001b[0m\u001b[0;34m\u001b[0m\u001b[0;34m\u001b[0m\u001b[0m\n\u001b[0;32m--> 229\u001b[0;31m             \u001b[0merrors\u001b[0m\u001b[0;34m=\u001b[0m\u001b[0mkwds\u001b[0m\u001b[0;34m.\u001b[0m\u001b[0mget\u001b[0m\u001b[0;34m(\u001b[0m\u001b[0;34m\"encoding_errors\"\u001b[0m\u001b[0;34m,\u001b[0m \u001b[0;34m\"strict\"\u001b[0m\u001b[0;34m)\u001b[0m\u001b[0;34m,\u001b[0m\u001b[0;34m\u001b[0m\u001b[0;34m\u001b[0m\u001b[0m\n\u001b[0m\u001b[1;32m    230\u001b[0m         )\n\u001b[1;32m    231\u001b[0m \u001b[0;34m\u001b[0m\u001b[0m\n",
      "\u001b[0;32m/opt/conda/lib/python3.7/site-packages/pandas/io/common.py\u001b[0m in \u001b[0;36mget_handle\u001b[0;34m(path_or_buf, mode, encoding, compression, memory_map, is_text, errors, storage_options)\u001b[0m\n\u001b[1;32m    705\u001b[0m                 \u001b[0mencoding\u001b[0m\u001b[0;34m=\u001b[0m\u001b[0mioargs\u001b[0m\u001b[0;34m.\u001b[0m\u001b[0mencoding\u001b[0m\u001b[0;34m,\u001b[0m\u001b[0;34m\u001b[0m\u001b[0;34m\u001b[0m\u001b[0m\n\u001b[1;32m    706\u001b[0m                 \u001b[0merrors\u001b[0m\u001b[0;34m=\u001b[0m\u001b[0merrors\u001b[0m\u001b[0;34m,\u001b[0m\u001b[0;34m\u001b[0m\u001b[0;34m\u001b[0m\u001b[0m\n\u001b[0;32m--> 707\u001b[0;31m                 \u001b[0mnewline\u001b[0m\u001b[0;34m=\u001b[0m\u001b[0;34m\"\"\u001b[0m\u001b[0;34m,\u001b[0m\u001b[0;34m\u001b[0m\u001b[0;34m\u001b[0m\u001b[0m\n\u001b[0m\u001b[1;32m    708\u001b[0m             )\n\u001b[1;32m    709\u001b[0m         \u001b[0;32melse\u001b[0m\u001b[0;34m:\u001b[0m\u001b[0;34m\u001b[0m\u001b[0;34m\u001b[0m\u001b[0m\n",
      "\u001b[0;31mFileNotFoundError\u001b[0m: [Errno 2] No such file or directory: '/kaggle/input/worldareacodes/L_WORLD_AREA_CODES.csv'"
     ]
    }
   ],
   "source": [
    "destinos =pd.read_csv(\"/kaggle/input/worldareacodes/L_WORLD_AREA_CODES.csv\")\n",
    "destinos"
   ]
  },
  {
   "cell_type": "markdown",
   "id": "6e465328",
   "metadata": {
    "papermill": {
     "duration": null,
     "end_time": null,
     "exception": null,
     "start_time": null,
     "status": "pending"
    },
    "tags": []
   },
   "source": [
    "### Estudio de la distribución para seleccionar destinos más relevantes"
   ]
  },
  {
   "cell_type": "code",
   "execution_count": null,
   "id": "9a4e9f1e",
   "metadata": {
    "execution": {
     "iopub.execute_input": "2023-01-27T08:52:22.987841Z",
     "iopub.status.busy": "2023-01-27T08:52:22.987473Z",
     "iopub.status.idle": "2023-01-27T08:52:23.296153Z",
     "shell.execute_reply": "2023-01-27T08:52:23.294865Z",
     "shell.execute_reply.started": "2023-01-27T08:52:22.987810Z"
    },
    "papermill": {
     "duration": null,
     "end_time": null,
     "exception": null,
     "start_time": null,
     "status": "pending"
    },
    "tags": []
   },
   "outputs": [],
   "source": [
    "obejtivos = df.groupby('fg_wac').size()\n",
    "print(obejtivos.sort_values().tail())\n",
    "print(df[\"fg_wac\"].hist())"
   ]
  },
  {
   "cell_type": "code",
   "execution_count": null,
   "id": "cb672b1a",
   "metadata": {
    "execution": {
     "iopub.execute_input": "2023-01-27T08:52:23.298069Z",
     "iopub.status.busy": "2023-01-27T08:52:23.297713Z",
     "iopub.status.idle": "2023-01-27T08:52:23.315989Z",
     "shell.execute_reply": "2023-01-27T08:52:23.314558Z",
     "shell.execute_reply.started": "2023-01-27T08:52:23.298039Z"
    },
    "papermill": {
     "duration": null,
     "end_time": null,
     "exception": null,
     "start_time": null,
     "status": "pending"
    },
    "tags": []
   },
   "outputs": [],
   "source": [
    "obejtivo1 = destinos[destinos['Code'] == 204]\n",
    "obejtivo2 = destinos[destinos['Code'] == 736]\n",
    "obejtivo3 = destinos[destinos['Code'] == 493]\n",
    "obejtivo4 = destinos[destinos['Code'] == 936]\n",
    "obejtivo5 = destinos[destinos['Code'] == 148]\n",
    "print(obejtivo1)\n",
    "print(obejtivo2)\n",
    "print(obejtivo3)\n",
    "print(obejtivo4)\n",
    "print(obejtivo5)"
   ]
  },
  {
   "cell_type": "markdown",
   "id": "094560e7",
   "metadata": {
    "papermill": {
     "duration": null,
     "end_time": null,
     "exception": null,
     "start_time": null,
     "status": "pending"
    },
    "tags": []
   },
   "source": [
    "### Creamos dataset filtrado con  uno de los paises más recurridos "
   ]
  },
  {
   "cell_type": "code",
   "execution_count": null,
   "id": "c4ebdbc6",
   "metadata": {
    "execution": {
     "iopub.execute_input": "2023-01-27T08:52:23.318067Z",
     "iopub.status.busy": "2023-01-27T08:52:23.317612Z",
     "iopub.status.idle": "2023-01-27T08:52:23.335656Z",
     "shell.execute_reply": "2023-01-27T08:52:23.334293Z",
     "shell.execute_reply.started": "2023-01-27T08:52:23.318030Z"
    },
    "papermill": {
     "duration": null,
     "end_time": null,
     "exception": null,
     "start_time": null,
     "status": "pending"
    },
    "tags": []
   },
   "outputs": [],
   "source": [
    "#datasetob1 = df[df['fg_wac'] == 204]\n",
    "#datasetob2 = df[df['fg_wac'] == 736]\n",
    "#datasetob3 = df[df['fg_wac'] == 493]\n",
    "#datasetob4 = df[df['fg_wac'] == 936]\n",
    "#datasetob5 = df[df['fg_wac'] == 148]\n",
    "datasetob1 = df[df['fg_wac'] == 148]"
   ]
  },
  {
   "cell_type": "markdown",
   "id": "28761340",
   "metadata": {
    "papermill": {
     "duration": null,
     "end_time": null,
     "exception": null,
     "start_time": null,
     "status": "pending"
    },
    "tags": []
   },
   "source": [
    "### Agrupado y sumado del total de pasageros por año"
   ]
  },
  {
   "cell_type": "code",
   "execution_count": null,
   "id": "e1426eaf",
   "metadata": {
    "execution": {
     "iopub.execute_input": "2023-01-27T08:52:23.339046Z",
     "iopub.status.busy": "2023-01-27T08:52:23.337064Z",
     "iopub.status.idle": "2023-01-27T08:52:23.373864Z",
     "shell.execute_reply": "2023-01-27T08:52:23.372683Z",
     "shell.execute_reply.started": "2023-01-27T08:52:23.338992Z"
    },
    "papermill": {
     "duration": null,
     "end_time": null,
     "exception": null,
     "start_time": null,
     "status": "pending"
    },
    "tags": []
   },
   "outputs": [],
   "source": [
    "#datasetob1 = df[df['fg_wac'] == 204]\n",
    "datasetob1 = pd.DataFrame(datasetob1, columns = ['data_dte', 'Total'])\n",
    "datasetob1=datasetob1.groupby(by=['data_dte']).sum().groupby(level=[0]).cumsum()\n",
    "#datasetob1.set_index('Year')\n",
    "datasetob1\n",
    "#datasetob1 = pd.DataFrame(datasetob1, columns = ['Total'])\n",
    "#dataset.dropna(inplace=True)"
   ]
  },
  {
   "cell_type": "markdown",
   "id": "88252961",
   "metadata": {
    "papermill": {
     "duration": null,
     "end_time": null,
     "exception": null,
     "start_time": null,
     "status": "pending"
    },
    "tags": []
   },
   "source": [
    "# Proceso de Predicción"
   ]
  },
  {
   "cell_type": "code",
   "execution_count": null,
   "id": "c5445310",
   "metadata": {
    "execution": {
     "iopub.execute_input": "2023-01-27T08:52:23.376299Z",
     "iopub.status.busy": "2023-01-27T08:52:23.375364Z",
     "iopub.status.idle": "2023-01-27T08:52:23.400460Z",
     "shell.execute_reply": "2023-01-27T08:52:23.399108Z",
     "shell.execute_reply.started": "2023-01-27T08:52:23.376251Z"
    },
    "papermill": {
     "duration": null,
     "end_time": null,
     "exception": null,
     "start_time": null,
     "status": "pending"
    },
    "tags": []
   },
   "outputs": [],
   "source": [
    "#ahora solo necesitaremos el total y la fecha para la prediccion\n",
    "#datasetob1 = pd.DataFrame(datasetob1, columns = ['Total'])\n",
    "train = pd.DataFrame(datasetob1.Total[:\"2018\"])\n",
    "test = pd.DataFrame(datasetob1.Total[\"2019\":])\n",
    "train.tail(100)"
   ]
  },
  {
   "cell_type": "code",
   "execution_count": null,
   "id": "cf995b6a",
   "metadata": {
    "execution": {
     "iopub.execute_input": "2023-01-27T08:52:23.402473Z",
     "iopub.status.busy": "2023-01-27T08:52:23.402133Z",
     "iopub.status.idle": "2023-01-27T08:52:23.455247Z",
     "shell.execute_reply": "2023-01-27T08:52:23.453955Z",
     "shell.execute_reply.started": "2023-01-27T08:52:23.402442Z"
    },
    "papermill": {
     "duration": null,
     "end_time": null,
     "exception": null,
     "start_time": null,
     "status": "pending"
    },
    "tags": []
   },
   "outputs": [],
   "source": [
    "minmaxSc=MinMaxScaler()\n",
    "sc_train= minmaxSc.fit_transform(train)\n",
    "windows = 5\n",
    "X_train = []\n",
    "Y_train = []\n",
    "#print(windows)\n",
    "#rint(sc_train.size)\n",
    "for i in range(windows,sc_train.size):\n",
    "    X_train.append(sc_train[i-windows:i,0])\n",
    "    Y_train.append(sc_train[i,0])\n",
    "print(X_train)"
   ]
  },
  {
   "cell_type": "code",
   "execution_count": null,
   "id": "b42e110c",
   "metadata": {
    "execution": {
     "iopub.execute_input": "2023-01-27T08:52:23.457376Z",
     "iopub.status.busy": "2023-01-27T08:52:23.457037Z",
     "iopub.status.idle": "2023-01-27T08:52:30.255001Z",
     "shell.execute_reply": "2023-01-27T08:52:30.254072Z",
     "shell.execute_reply.started": "2023-01-27T08:52:23.457346Z"
    },
    "papermill": {
     "duration": null,
     "end_time": null,
     "exception": null,
     "start_time": null,
     "status": "pending"
    },
    "tags": []
   },
   "outputs": [],
   "source": [
    "X_train,Y_train = np.array(X_train),np.array(Y_train)\n",
    "X_train = np.reshape(X_train,(X_train.shape[0],X_train.shape[1],1))\n",
    "modelo=Sequential()\n",
    "modelo.add(LSTM(units=600, input_shape=(X_train.shape[1],1)))\n",
    "modelo.add(Dense(1))\n",
    "modelo.compile(optimizer=\"adam\",loss=\"mse\")\n",
    "modelo.fit(X_train,Y_train,epochs=10,batch_size=64)"
   ]
  },
  {
   "cell_type": "code",
   "execution_count": null,
   "id": "4f7529d6",
   "metadata": {
    "execution": {
     "iopub.execute_input": "2023-01-27T08:52:30.257116Z",
     "iopub.status.busy": "2023-01-27T08:52:30.256135Z",
     "iopub.status.idle": "2023-01-27T08:52:30.264937Z",
     "shell.execute_reply": "2023-01-27T08:52:30.264050Z",
     "shell.execute_reply.started": "2023-01-27T08:52:30.257081Z"
    },
    "papermill": {
     "duration": null,
     "end_time": null,
     "exception": null,
     "start_time": null,
     "status": "pending"
    },
    "tags": []
   },
   "outputs": [],
   "source": [
    "sc_test = minmaxSc.transform(test)\n",
    "X_test = []\n",
    "for i in range(windows,sc_test.size):\n",
    "    X_test.append(sc_test[i-windows:i,0])"
   ]
  },
  {
   "cell_type": "code",
   "execution_count": null,
   "id": "92798b98",
   "metadata": {
    "execution": {
     "iopub.execute_input": "2023-01-27T08:52:30.267444Z",
     "iopub.status.busy": "2023-01-27T08:52:30.266378Z",
     "iopub.status.idle": "2023-01-27T08:52:30.798652Z",
     "shell.execute_reply": "2023-01-27T08:52:30.797703Z",
     "shell.execute_reply.started": "2023-01-27T08:52:30.267408Z"
    },
    "papermill": {
     "duration": null,
     "end_time": null,
     "exception": null,
     "start_time": null,
     "status": "pending"
    },
    "tags": []
   },
   "outputs": [],
   "source": [
    "X_test=np.array(X_test)\n",
    "X_test= np.reshape(X_test,(X_test.shape[0],X_test.shape[1],1))\n",
    "pred=modelo.predict(X_test)\n",
    "pred=minmaxSc.inverse_transform(pred)"
   ]
  },
  {
   "cell_type": "code",
   "execution_count": null,
   "id": "3271654d",
   "metadata": {
    "execution": {
     "iopub.execute_input": "2023-01-27T08:52:30.800475Z",
     "iopub.status.busy": "2023-01-27T08:52:30.799981Z",
     "iopub.status.idle": "2023-01-27T08:52:31.051935Z",
     "shell.execute_reply": "2023-01-27T08:52:31.050637Z",
     "shell.execute_reply.started": "2023-01-27T08:52:30.800445Z"
    },
    "papermill": {
     "duration": null,
     "end_time": null,
     "exception": null,
     "start_time": null,
     "status": "pending"
    },
    "tags": []
   },
   "outputs": [],
   "source": [
    "test[\"pred\"]=np.concatenate(([np.nan]*windows,pred),axis=None)\n",
    "plt.plot(test[\"Total\"],color=\"darkcyan\")\n",
    "plt.plot(test[\"pred\"],color=\"darkslategrey\")\n",
    "#plt.ylim(1.1*np.min(pred)/2, 1.1 *np.max(pred))\n",
    "plt.show()"
   ]
  }
 ],
 "metadata": {
  "kernelspec": {
   "display_name": "Python 3",
   "language": "python",
   "name": "python3"
  },
  "language_info": {
   "codemirror_mode": {
    "name": "ipython",
    "version": 3
   },
   "file_extension": ".py",
   "mimetype": "text/x-python",
   "name": "python",
   "nbconvert_exporter": "python",
   "pygments_lexer": "ipython3",
   "version": "3.7.12"
  },
  "papermill": {
   "default_parameters": {},
   "duration": 34.238366,
   "end_time": "2023-01-28T14:53:52.110067",
   "environment_variables": {},
   "exception": true,
   "input_path": "__notebook__.ipynb",
   "output_path": "__notebook__.ipynb",
   "parameters": {},
   "start_time": "2023-01-28T14:53:17.871701",
   "version": "2.3.4"
  }
 },
 "nbformat": 4,
 "nbformat_minor": 5
}
